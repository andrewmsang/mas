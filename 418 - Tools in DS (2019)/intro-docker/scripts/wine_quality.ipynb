{
 "cells": [
  {
   "cell_type": "code",
   "execution_count": 86,
   "metadata": {},
   "outputs": [
    {
     "name": "stdout",
     "output_type": "stream",
     "text": [
      "Checking whether there is an H2O instance running at http://localhost:54321 . connected.\n",
      "Warning: Your H2O cluster version is too old (8 months and 26 days)! Please download and install the latest version from http://h2o.ai/download/\n"
     ]
    },
    {
     "data": {
      "text/html": [
       "<div style=\"overflow:auto\"><table style=\"width:50%\"><tr><td>H2O cluster uptime:</td>\n",
       "<td>28 mins 02 secs</td></tr>\n",
       "<tr><td>H2O cluster timezone:</td>\n",
       "<td>America/Los_Angeles</td></tr>\n",
       "<tr><td>H2O data parsing timezone:</td>\n",
       "<td>UTC</td></tr>\n",
       "<tr><td>H2O cluster version:</td>\n",
       "<td>3.24.0.2</td></tr>\n",
       "<tr><td>H2O cluster version age:</td>\n",
       "<td>8 months and 26 days !!!</td></tr>\n",
       "<tr><td>H2O cluster name:</td>\n",
       "<td>H2O_from_python_andrewsang_y5mxt5</td></tr>\n",
       "<tr><td>H2O cluster total nodes:</td>\n",
       "<td>1</td></tr>\n",
       "<tr><td>H2O cluster free memory:</td>\n",
       "<td>1.618 Gb</td></tr>\n",
       "<tr><td>H2O cluster total cores:</td>\n",
       "<td>4</td></tr>\n",
       "<tr><td>H2O cluster allowed cores:</td>\n",
       "<td>4</td></tr>\n",
       "<tr><td>H2O cluster status:</td>\n",
       "<td>locked, healthy</td></tr>\n",
       "<tr><td>H2O connection url:</td>\n",
       "<td>http://localhost:54321</td></tr>\n",
       "<tr><td>H2O connection proxy:</td>\n",
       "<td>None</td></tr>\n",
       "<tr><td>H2O internal security:</td>\n",
       "<td>False</td></tr>\n",
       "<tr><td>H2O API Extensions:</td>\n",
       "<td>Amazon S3, XGBoost, Algos, AutoML, Core V3, Core V4</td></tr>\n",
       "<tr><td>Python version:</td>\n",
       "<td>3.6.8 final</td></tr></table></div>"
      ],
      "text/plain": [
       "--------------------------  ---------------------------------------------------\n",
       "H2O cluster uptime:         28 mins 02 secs\n",
       "H2O cluster timezone:       America/Los_Angeles\n",
       "H2O data parsing timezone:  UTC\n",
       "H2O cluster version:        3.24.0.2\n",
       "H2O cluster version age:    8 months and 26 days !!!\n",
       "H2O cluster name:           H2O_from_python_andrewsang_y5mxt5\n",
       "H2O cluster total nodes:    1\n",
       "H2O cluster free memory:    1.618 Gb\n",
       "H2O cluster total cores:    4\n",
       "H2O cluster allowed cores:  4\n",
       "H2O cluster status:         locked, healthy\n",
       "H2O connection url:         http://localhost:54321\n",
       "H2O connection proxy:\n",
       "H2O internal security:      False\n",
       "H2O API Extensions:         Amazon S3, XGBoost, Algos, AutoML, Core V3, Core V4\n",
       "Python version:             3.6.8 final\n",
       "--------------------------  ---------------------------------------------------"
      ]
     },
     "metadata": {},
     "output_type": "display_data"
    }
   ],
   "source": [
    "import numpy as np\n",
    "import pandas as pd\n",
    "import h2o\n",
    "\n",
    "h2o.init()"
   ]
  },
  {
   "cell_type": "code",
   "execution_count": 10,
   "metadata": {},
   "outputs": [
    {
     "name": "stdout",
     "output_type": "stream",
     "text": [
      "Parse progress: |█████████████████████████████████████████████████████████| 100%\n"
     ]
    }
   ],
   "source": [
    "wine_df = h2o.import_file('winequality-red.csv')"
   ]
  },
  {
   "cell_type": "code",
   "execution_count": 74,
   "metadata": {},
   "outputs": [],
   "source": [
    "wine_df.columns = [c.replace(' ','_') for c in wine_df.columns]"
   ]
  },
  {
   "cell_type": "code",
   "execution_count": 84,
   "metadata": {},
   "outputs": [],
   "source": [
    "train, test, valid = wine_df.split_frame(ratios=([.8,.1]), seed = 1234)"
   ]
  },
  {
   "cell_type": "code",
   "execution_count": 134,
   "metadata": {},
   "outputs": [
    {
     "name": "stdout",
     "output_type": "stream",
     "text": [
      "xgboost Model Build progress: |███████████████████████████████████████████| 100%\n",
      "Model Details\n",
      "=============\n",
      "H2OXGBoostEstimator :  XGBoost\n",
      "Model Key:  XGBoost_model_python_1578855675432_40\n",
      "\n",
      "\n",
      "ModelMetricsRegression: xgboost\n",
      "** Reported on train data. **\n",
      "\n",
      "MSE: 0.15218037306927676\n",
      "RMSE: 0.39010302878762265\n",
      "MAE: 0.29625229102484185\n",
      "RMSLE: 0.06060146605390641\n",
      "Mean Residual Deviance: 0.15218037306927676\n",
      "\n",
      "ModelMetricsRegression: xgboost\n",
      "** Reported on validation data. **\n",
      "\n",
      "MSE: 0.5371605618119828\n",
      "RMSE: 0.7329123834483784\n",
      "MAE: 0.5494922148553949\n",
      "RMSLE: 0.11720938511656052\n",
      "Mean Residual Deviance: 0.5371605618119828\n",
      "Scoring History: \n"
     ]
    },
    {
     "data": {
      "text/html": [
       "<div style=\"overflow:auto\"><table style=\"width:50%\"><tr><td><b></b></td>\n",
       "<td><b>timestamp</b></td>\n",
       "<td><b>duration</b></td>\n",
       "<td><b>number_of_trees</b></td>\n",
       "<td><b>training_rmse</b></td>\n",
       "<td><b>training_mae</b></td>\n",
       "<td><b>training_deviance</b></td>\n",
       "<td><b>validation_rmse</b></td>\n",
       "<td><b>validation_mae</b></td>\n",
       "<td><b>validation_deviance</b></td></tr>\n",
       "<tr><td></td>\n",
       "<td>2020-01-12 11:49:33</td>\n",
       "<td> 0.011 sec</td>\n",
       "<td>0.0</td>\n",
       "<td>5.2000358</td>\n",
       "<td>5.1381988</td>\n",
       "<td>27.0403727</td>\n",
       "<td>5.2452986</td>\n",
       "<td>5.1644737</td>\n",
       "<td>27.5131579</td></tr>\n",
       "<tr><td></td>\n",
       "<td>2020-01-12 11:49:33</td>\n",
       "<td> 0.123 sec</td>\n",
       "<td>100.0</td>\n",
       "<td>0.4822792</td>\n",
       "<td>0.3709728</td>\n",
       "<td>0.2325932</td>\n",
       "<td>0.7241212</td>\n",
       "<td>0.5501849</td>\n",
       "<td>0.5243515</td></tr>\n",
       "<tr><td></td>\n",
       "<td>2020-01-12 11:49:33</td>\n",
       "<td> 0.218 sec</td>\n",
       "<td>200.0</td>\n",
       "<td>0.4152928</td>\n",
       "<td>0.3166449</td>\n",
       "<td>0.1724681</td>\n",
       "<td>0.7301124</td>\n",
       "<td>0.5513785</td>\n",
       "<td>0.5330642</td></tr>\n",
       "<tr><td></td>\n",
       "<td>2020-01-12 11:49:33</td>\n",
       "<td> 0.292 sec</td>\n",
       "<td>250.0</td>\n",
       "<td>0.3901030</td>\n",
       "<td>0.2962523</td>\n",
       "<td>0.1521804</td>\n",
       "<td>0.7329124</td>\n",
       "<td>0.5494922</td>\n",
       "<td>0.5371606</td></tr></table></div>"
      ],
      "text/plain": [
       "    timestamp            duration    number_of_trees    training_rmse    training_mae    training_deviance    validation_rmse    validation_mae    validation_deviance\n",
       "--  -------------------  ----------  -----------------  ---------------  --------------  -------------------  -----------------  ----------------  ---------------------\n",
       "    2020-01-12 11:49:33  0.011 sec   0                  5.20004          5.1382          27.0404              5.2453             5.16447           27.5132\n",
       "    2020-01-12 11:49:33  0.123 sec   100                0.482279         0.370973        0.232593             0.724121           0.550185          0.524351\n",
       "    2020-01-12 11:49:33  0.218 sec   200                0.415293         0.316645        0.172468             0.730112           0.551379          0.533064\n",
       "    2020-01-12 11:49:33  0.292 sec   250                0.390103         0.296252        0.15218              0.732912           0.549492          0.537161"
      ]
     },
     "metadata": {},
     "output_type": "display_data"
    },
    {
     "name": "stdout",
     "output_type": "stream",
     "text": [
      "Variable Importances: \n"
     ]
    },
    {
     "data": {
      "text/html": [
       "<div style=\"overflow:auto\"><table style=\"width:50%\"><tr><td><b>variable</b></td>\n",
       "<td><b>relative_importance</b></td>\n",
       "<td><b>scaled_importance</b></td>\n",
       "<td><b>percentage</b></td></tr>\n",
       "<tr><td>alcohol</td>\n",
       "<td>960.7824097</td>\n",
       "<td>1.0</td>\n",
       "<td>0.3499666</td></tr>\n",
       "<tr><td>volatile_acidity</td>\n",
       "<td>634.3043823</td>\n",
       "<td>0.6601957</td>\n",
       "<td>0.2310465</td></tr>\n",
       "<tr><td>total_sulfur_dioxide</td>\n",
       "<td>576.5860596</td>\n",
       "<td>0.6001214</td>\n",
       "<td>0.2100225</td></tr>\n",
       "<tr><td>sulphates</td>\n",
       "<td>573.6813965</td>\n",
       "<td>0.5970981</td>\n",
       "<td>0.2089644</td></tr></table></div>"
      ],
      "text/plain": [
       "variable              relative_importance    scaled_importance    percentage\n",
       "--------------------  ---------------------  -------------------  ------------\n",
       "alcohol               960.782                1                    0.349967\n",
       "volatile_acidity      634.304                0.660196             0.231046\n",
       "total_sulfur_dioxide  576.586                0.600121             0.210022\n",
       "sulphates             573.681                0.597098             0.208964"
      ]
     },
     "metadata": {},
     "output_type": "display_data"
    },
    {
     "data": {
      "text/plain": []
     },
     "execution_count": 134,
     "metadata": {},
     "output_type": "execute_result"
    }
   ],
   "source": [
    "param = {\n",
    "    \"ntrees\" : 250, \n",
    "    \"max_depth\" : 6, \n",
    "    \"learn_rate\" : 0.1,\n",
    "    \"sample_rate\" : 0.8, \n",
    "    \"col_sample_rate_per_tree\" : 0.8, \n",
    "    \"min_rows\" : 25,\n",
    "    \"seed\": 1234, \n",
    "    \"score_tree_interval\": 100\n",
    "}\n",
    "\n",
    "from h2o.estimators import H2OXGBoostEstimator\n",
    "model = H2OXGBoostEstimator(**param)\n",
    "# X = wine_df.columns[:-1]\n",
    "X = ['alcohol','sulphates','volatile_acidity','total_sulfur_dioxide']\n",
    "model.train(x = X, \n",
    "            y = 'quality', \n",
    "            training_frame = train, \n",
    "            validation_frame = test)\n",
    "model"
   ]
  },
  {
   "cell_type": "code",
   "execution_count": 135,
   "metadata": {},
   "outputs": [
    {
     "data": {
      "text/html": [
       "<table>\n",
       "<thead>\n",
       "<tr><th style=\"text-align: right;\">  fixed_acidity</th><th style=\"text-align: right;\">  volatile_acidity</th><th style=\"text-align: right;\">  citric_acid</th><th style=\"text-align: right;\">  residual_sugar</th><th style=\"text-align: right;\">  chlorides</th><th style=\"text-align: right;\">  free_sulfur_dioxide</th><th style=\"text-align: right;\">  total_sulfur_dioxide</th><th style=\"text-align: right;\">  density</th><th style=\"text-align: right;\">  pH</th><th style=\"text-align: right;\">  sulphates</th><th style=\"text-align: right;\">  alcohol</th><th style=\"text-align: right;\">  quality</th></tr>\n",
       "</thead>\n",
       "<tbody>\n",
       "<tr><td style=\"text-align: right;\">            7.4</td><td style=\"text-align: right;\">               0.7</td><td style=\"text-align: right;\">            0</td><td style=\"text-align: right;\">             1.9</td><td style=\"text-align: right;\">      0.076</td><td style=\"text-align: right;\">                   11</td><td style=\"text-align: right;\">                    34</td><td style=\"text-align: right;\">   0.9978</td><td style=\"text-align: right;\">3.51</td><td style=\"text-align: right;\">       0.56</td><td style=\"text-align: right;\">      9.4</td><td style=\"text-align: right;\">        5</td></tr>\n",
       "</tbody>\n",
       "</table>"
      ]
     },
     "metadata": {},
     "output_type": "display_data"
    },
    {
     "data": {
      "text/plain": []
     },
     "execution_count": 135,
     "metadata": {},
     "output_type": "execute_result"
    }
   ],
   "source": [
    "wine_df.head(1)"
   ]
  },
  {
   "cell_type": "code",
   "execution_count": 137,
   "metadata": {},
   "outputs": [
    {
     "name": "stdout",
     "output_type": "stream",
     "text": [
      "Parse progress: |█████████████████████████████████████████████████████████| 100%\n",
      "xgboost prediction progress: |████████████████████████████████████████████| 100%\n"
     ]
    },
    {
     "data": {
      "text/html": [
       "<table>\n",
       "<thead>\n",
       "<tr><th style=\"text-align: right;\">  predict</th></tr>\n",
       "</thead>\n",
       "<tbody>\n",
       "<tr><td style=\"text-align: right;\">  5.87498</td></tr>\n",
       "</tbody>\n",
       "</table>"
      ]
     },
     "metadata": {},
     "output_type": "display_data"
    },
    {
     "data": {
      "text/plain": []
     },
     "execution_count": 137,
     "metadata": {},
     "output_type": "execute_result"
    }
   ],
   "source": [
    "# pred_dict = {'alcohol': 9, 'sulphates': 0.6 , 'volatile_acidity': 0.5, 'total_sulfur_dioxide': 30}\n",
    "# model.predict(h2o.H2OFrame(pred_dict))"
   ]
  },
  {
   "cell_type": "code",
   "execution_count": 156,
   "metadata": {},
   "outputs": [],
   "source": [
    "def predict(dict_values, model=model):\n",
    "    y_pred = model.predict(h2o.H2OFrame(pred_dict)).as_data_frame()['predict'][0]\n",
    "    return y_pred"
   ]
  },
  {
   "cell_type": "code",
   "execution_count": 157,
   "metadata": {},
   "outputs": [
    {
     "name": "stdout",
     "output_type": "stream",
     "text": [
      "Parse progress: |█████████████████████████████████████████████████████████| 100%\n",
      "xgboost prediction progress: |████████████████████████████████████████████| 100%\n"
     ]
    },
    {
     "data": {
      "text/plain": [
       "5.87497615814209"
      ]
     },
     "execution_count": 157,
     "metadata": {},
     "output_type": "execute_result"
    }
   ],
   "source": [
    "predict(pred_dict)"
   ]
  }
 ],
 "metadata": {
  "kernelspec": {
   "display_name": "Python 3",
   "language": "python",
   "name": "python3"
  },
  "language_info": {
   "codemirror_mode": {
    "name": "ipython",
    "version": 3
   },
   "file_extension": ".py",
   "mimetype": "text/x-python",
   "name": "python",
   "nbconvert_exporter": "python",
   "pygments_lexer": "ipython3",
   "version": "3.6.8"
  }
 },
 "nbformat": 4,
 "nbformat_minor": 2
}

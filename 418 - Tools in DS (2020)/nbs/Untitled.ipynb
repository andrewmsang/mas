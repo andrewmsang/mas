{
 "cells": [
  {
   "cell_type": "code",
   "execution_count": 2,
   "metadata": {},
   "outputs": [],
   "source": [
    "import pandas as pd"
   ]
  },
  {
   "cell_type": "code",
   "execution_count": 90,
   "metadata": {},
   "outputs": [],
   "source": [
    "input_json = dict()\n",
    "input_json['county'] = 'hiho'\n",
    "input_json['precinct'] = 'heyo'\n",
    "input_json['round'] = 2\n",
    "input_json['buttigieg_votes'] = 123\n",
    "input_json['warren_votes'] = 456\n",
    "input_json['klobuchar_votes'] = 789\n",
    "input_json['biden_votes'] = 101112\n",
    "input_json['yang_votes'] = 123\n",
    "input_json['sanders_votes'] = 6534\n",
    "input_json['steyer_votes'] = 8987\n",
    "input_json['gabbard_votes'] = 324\n",
    "input_json['other_votes'] = 0\n",
    "input_json['uncommitted_votes'] = 123"
   ]
  },
  {
   "cell_type": "code",
   "execution_count": 91,
   "metadata": {},
   "outputs": [],
   "source": [
    "curr_submit = input_json.copy()"
   ]
  },
  {
   "cell_type": "code",
   "execution_count": 92,
   "metadata": {},
   "outputs": [],
   "source": [
    "idf = pd.DataFrame(curr_submit, index=[0])\n",
    "metric_cols = [i for i in idf.columns if '_votes' in i]"
   ]
  },
  {
   "cell_type": "code",
   "execution_count": 96,
   "metadata": {},
   "outputs": [],
   "source": [
    "idf.loc[:, metric_cols] = idf.loc[:, metric_cols] / idf.loc[:, metric_cols].sum(axis=1).values[0]"
   ]
  },
  {
   "cell_type": "code",
   "execution_count": 124,
   "metadata": {},
   "outputs": [],
   "source": [
    "mdf = pd.melt(idf, id_vars=['county','precinct','round'])\n",
    "# start excluding\n",
    "zero_mask = mdf['value']==0\n",
    "qual_mask = mdf['value']>.15\n",
    "uncommit_mask = mdf['variable']=='uncommitted_votes'\n",
    "\n",
    "mdf.loc[mdf['value']>.15,'qual_cand'] = 1\n",
    "mdf.loc[mdf['variable']=='uncommitted_votes','qual_cand'] = 1\n",
    "mdf.loc[:,'qual_cand'].fillna(0, inplace=True)\n",
    "\n",
    "mdf.loc[mdf['round']==1,'valid_submit'] = 1\n",
    "mdf.loc[mdf['qual_cand']==1,'valid_submit'] = 1\n",
    "mdf.loc[mdf['value']==0,'valid_submit'] = 1\n",
    "mdf.loc[:,'valid_submit'].fillna(0, inplace=True)"
   ]
  },
  {
   "cell_type": "code",
   "execution_count": 122,
   "metadata": {},
   "outputs": [
    {
     "data": {
      "text/html": [
       "<div>\n",
       "<style scoped>\n",
       "    .dataframe tbody tr th:only-of-type {\n",
       "        vertical-align: middle;\n",
       "    }\n",
       "\n",
       "    .dataframe tbody tr th {\n",
       "        vertical-align: top;\n",
       "    }\n",
       "\n",
       "    .dataframe thead th {\n",
       "        text-align: right;\n",
       "    }\n",
       "</style>\n",
       "<table border=\"1\" class=\"dataframe\">\n",
       "  <thead>\n",
       "    <tr style=\"text-align: right;\">\n",
       "      <th></th>\n",
       "      <th>county</th>\n",
       "      <th>precinct</th>\n",
       "      <th>round</th>\n",
       "      <th>variable</th>\n",
       "      <th>value</th>\n",
       "      <th>qual_cand</th>\n",
       "      <th>valid_submit</th>\n",
       "    </tr>\n",
       "  </thead>\n",
       "  <tbody>\n",
       "    <tr>\n",
       "      <th>0</th>\n",
       "      <td>hiho</td>\n",
       "      <td>heyo</td>\n",
       "      <td>2</td>\n",
       "      <td>buttigieg_votes</td>\n",
       "      <td>0.001037</td>\n",
       "      <td>0.0</td>\n",
       "      <td>0.0</td>\n",
       "    </tr>\n",
       "    <tr>\n",
       "      <th>1</th>\n",
       "      <td>hiho</td>\n",
       "      <td>heyo</td>\n",
       "      <td>2</td>\n",
       "      <td>warren_votes</td>\n",
       "      <td>0.003846</td>\n",
       "      <td>0.0</td>\n",
       "      <td>0.0</td>\n",
       "    </tr>\n",
       "    <tr>\n",
       "      <th>2</th>\n",
       "      <td>hiho</td>\n",
       "      <td>heyo</td>\n",
       "      <td>2</td>\n",
       "      <td>klobuchar_votes</td>\n",
       "      <td>0.006654</td>\n",
       "      <td>0.0</td>\n",
       "      <td>0.0</td>\n",
       "    </tr>\n",
       "    <tr>\n",
       "      <th>4</th>\n",
       "      <td>hiho</td>\n",
       "      <td>heyo</td>\n",
       "      <td>2</td>\n",
       "      <td>yang_votes</td>\n",
       "      <td>0.001037</td>\n",
       "      <td>0.0</td>\n",
       "      <td>0.0</td>\n",
       "    </tr>\n",
       "    <tr>\n",
       "      <th>5</th>\n",
       "      <td>hiho</td>\n",
       "      <td>heyo</td>\n",
       "      <td>2</td>\n",
       "      <td>sanders_votes</td>\n",
       "      <td>0.055106</td>\n",
       "      <td>0.0</td>\n",
       "      <td>0.0</td>\n",
       "    </tr>\n",
       "    <tr>\n",
       "      <th>6</th>\n",
       "      <td>hiho</td>\n",
       "      <td>heyo</td>\n",
       "      <td>2</td>\n",
       "      <td>steyer_votes</td>\n",
       "      <td>0.075794</td>\n",
       "      <td>0.0</td>\n",
       "      <td>0.0</td>\n",
       "    </tr>\n",
       "    <tr>\n",
       "      <th>7</th>\n",
       "      <td>hiho</td>\n",
       "      <td>heyo</td>\n",
       "      <td>2</td>\n",
       "      <td>gabbard_votes</td>\n",
       "      <td>0.002733</td>\n",
       "      <td>0.0</td>\n",
       "      <td>0.0</td>\n",
       "    </tr>\n",
       "    <tr>\n",
       "      <th>8</th>\n",
       "      <td>hiho</td>\n",
       "      <td>heyo</td>\n",
       "      <td>2</td>\n",
       "      <td>other_votes</td>\n",
       "      <td>0.000000</td>\n",
       "      <td>0.0</td>\n",
       "      <td>1.0</td>\n",
       "    </tr>\n",
       "    <tr>\n",
       "      <th>3</th>\n",
       "      <td>hiho</td>\n",
       "      <td>heyo</td>\n",
       "      <td>2</td>\n",
       "      <td>biden_votes</td>\n",
       "      <td>0.852755</td>\n",
       "      <td>1.0</td>\n",
       "      <td>1.0</td>\n",
       "    </tr>\n",
       "    <tr>\n",
       "      <th>9</th>\n",
       "      <td>hiho</td>\n",
       "      <td>heyo</td>\n",
       "      <td>2</td>\n",
       "      <td>uncommitted_votes</td>\n",
       "      <td>0.001037</td>\n",
       "      <td>1.0</td>\n",
       "      <td>1.0</td>\n",
       "    </tr>\n",
       "  </tbody>\n",
       "</table>\n",
       "</div>"
      ],
      "text/plain": [
       "  county precinct  round           variable     value  qual_cand  valid_submit\n",
       "0   hiho     heyo      2    buttigieg_votes  0.001037        0.0           0.0\n",
       "1   hiho     heyo      2       warren_votes  0.003846        0.0           0.0\n",
       "2   hiho     heyo      2    klobuchar_votes  0.006654        0.0           0.0\n",
       "4   hiho     heyo      2         yang_votes  0.001037        0.0           0.0\n",
       "5   hiho     heyo      2      sanders_votes  0.055106        0.0           0.0\n",
       "6   hiho     heyo      2       steyer_votes  0.075794        0.0           0.0\n",
       "7   hiho     heyo      2      gabbard_votes  0.002733        0.0           0.0\n",
       "8   hiho     heyo      2        other_votes  0.000000        0.0           1.0\n",
       "3   hiho     heyo      2        biden_votes  0.852755        1.0           1.0\n",
       "9   hiho     heyo      2  uncommitted_votes  0.001037        1.0           1.0"
      ]
     },
     "execution_count": 122,
     "metadata": {},
     "output_type": "execute_result"
    }
   ],
   "source": [
    "mdf.sort_values(['valid_submit','qual_cand'])"
   ]
  },
  {
   "cell_type": "code",
   "execution_count": 123,
   "metadata": {},
   "outputs": [
    {
     "ename": "AssertionError",
     "evalue": "",
     "output_type": "error",
     "traceback": [
      "\u001b[0;31m---------------------------------------------------------------------------\u001b[0m",
      "\u001b[0;31mAssertionError\u001b[0m                            Traceback (most recent call last)",
      "\u001b[0;32m<ipython-input-123-7b28c2a2e1b5>\u001b[0m in \u001b[0;36m<module>\u001b[0;34m\u001b[0m\n\u001b[0;32m----> 1\u001b[0;31m \u001b[0;32massert\u001b[0m \u001b[0mmdf\u001b[0m\u001b[0;34m.\u001b[0m\u001b[0mloc\u001b[0m\u001b[0;34m[\u001b[0m\u001b[0mmdf\u001b[0m\u001b[0;34m[\u001b[0m\u001b[0;34m'valid_submit'\u001b[0m\u001b[0;34m]\u001b[0m\u001b[0;34m==\u001b[0m\u001b[0;36m0\u001b[0m\u001b[0;34m,\u001b[0m\u001b[0;34m:\u001b[0m\u001b[0;34m]\u001b[0m\u001b[0;34m.\u001b[0m\u001b[0mshape\u001b[0m\u001b[0;34m[\u001b[0m\u001b[0;36m0\u001b[0m\u001b[0;34m]\u001b[0m \u001b[0;34m==\u001b[0m \u001b[0;36m0\u001b[0m\u001b[0;34m\u001b[0m\u001b[0;34m\u001b[0m\u001b[0m\n\u001b[0m",
      "\u001b[0;31mAssertionError\u001b[0m: "
     ]
    }
   ],
   "source": [
    "assert mdf.loc[mdf['valid_submit']==0,:].shape[0] == 0"
   ]
  },
  {
   "cell_type": "code",
   "execution_count": 126,
   "metadata": {},
   "outputs": [
    {
     "data": {
      "text/plain": [
       "'<table border=\"1\" class=\"dataframe\">\\n  <thead>\\n    <tr style=\"text-align: right;\">\\n      <th></th>\\n      <th>county</th>\\n      <th>precinct</th>\\n      <th>round</th>\\n      <th>variable</th>\\n      <th>value</th>\\n      <th>qual_cand</th>\\n      <th>valid_submit</th>\\n    </tr>\\n  </thead>\\n  <tbody>\\n    <tr>\\n      <th>0</th>\\n      <td>hiho</td>\\n      <td>heyo</td>\\n      <td>2</td>\\n      <td>buttigieg_votes</td>\\n      <td>0.001037</td>\\n      <td>0.0</td>\\n      <td>0.0</td>\\n    </tr>\\n    <tr>\\n      <th>1</th>\\n      <td>hiho</td>\\n      <td>heyo</td>\\n      <td>2</td>\\n      <td>warren_votes</td>\\n      <td>0.003846</td>\\n      <td>0.0</td>\\n      <td>0.0</td>\\n    </tr>\\n    <tr>\\n      <th>2</th>\\n      <td>hiho</td>\\n      <td>heyo</td>\\n      <td>2</td>\\n      <td>klobuchar_votes</td>\\n      <td>0.006654</td>\\n      <td>0.0</td>\\n      <td>0.0</td>\\n    </tr>\\n    <tr>\\n      <th>3</th>\\n      <td>hiho</td>\\n      <td>heyo</td>\\n      <td>2</td>\\n      <td>biden_votes</td>\\n      <td>0.852755</td>\\n      <td>1.0</td>\\n      <td>1.0</td>\\n    </tr>\\n    <tr>\\n      <th>4</th>\\n      <td>hiho</td>\\n      <td>heyo</td>\\n      <td>2</td>\\n      <td>yang_votes</td>\\n      <td>0.001037</td>\\n      <td>0.0</td>\\n      <td>0.0</td>\\n    </tr>\\n    <tr>\\n      <th>5</th>\\n      <td>hiho</td>\\n      <td>heyo</td>\\n      <td>2</td>\\n      <td>sanders_votes</td>\\n      <td>0.055106</td>\\n      <td>0.0</td>\\n      <td>0.0</td>\\n    </tr>\\n    <tr>\\n      <th>6</th>\\n      <td>hiho</td>\\n      <td>heyo</td>\\n      <td>2</td>\\n      <td>steyer_votes</td>\\n      <td>0.075794</td>\\n      <td>0.0</td>\\n      <td>0.0</td>\\n    </tr>\\n    <tr>\\n      <th>7</th>\\n      <td>hiho</td>\\n      <td>heyo</td>\\n      <td>2</td>\\n      <td>gabbard_votes</td>\\n      <td>0.002733</td>\\n      <td>0.0</td>\\n      <td>0.0</td>\\n    </tr>\\n    <tr>\\n      <th>8</th>\\n      <td>hiho</td>\\n      <td>heyo</td>\\n      <td>2</td>\\n      <td>other_votes</td>\\n      <td>0.000000</td>\\n      <td>0.0</td>\\n      <td>1.0</td>\\n    </tr>\\n    <tr>\\n      <th>9</th>\\n      <td>hiho</td>\\n      <td>heyo</td>\\n      <td>2</td>\\n      <td>uncommitted_votes</td>\\n      <td>0.001037</td>\\n      <td>1.0</td>\\n      <td>1.0</td>\\n    </tr>\\n  </tbody>\\n</table>'"
      ]
     },
     "execution_count": 126,
     "metadata": {},
     "output_type": "execute_result"
    }
   ],
   "source": [
    "mdf.to_html()"
   ]
  },
  {
   "cell_type": "code",
   "execution_count": 115,
   "metadata": {},
   "outputs": [
    {
     "data": {
      "text/plain": [
       "0    False\n",
       "1    False\n",
       "2    False\n",
       "3    False\n",
       "4    False\n",
       "5    False\n",
       "6    False\n",
       "7    False\n",
       "8    False\n",
       "9     True\n",
       "Name: variable, dtype: bool"
      ]
     },
     "execution_count": 115,
     "metadata": {},
     "output_type": "execute_result"
    }
   ],
   "source": [
    "mdf['variable']=='uncommitted_votes'"
   ]
  },
  {
   "cell_type": "code",
   "execution_count": 131,
   "metadata": {},
   "outputs": [],
   "source": [
    "conn = sqlite3.connect(\"../db/votes.db\")\n",
    "cursor = conn.cursor()"
   ]
  },
  {
   "cell_type": "code",
   "execution_count": 138,
   "metadata": {},
   "outputs": [
    {
     "ename": "TypeError",
     "evalue": "'NoneType' object is not iterable",
     "output_type": "error",
     "traceback": [
      "\u001b[0;31m---------------------------------------------------------------------------\u001b[0m",
      "\u001b[0;31mTypeError\u001b[0m                                 Traceback (most recent call last)",
      "\u001b[0;32m<ipython-input-138-138d5775b5be>\u001b[0m in \u001b[0;36m<module>\u001b[0;34m\u001b[0m\n\u001b[0;32m----> 1\u001b[0;31m \u001b[0mpd\u001b[0m\u001b[0;34m.\u001b[0m\u001b[0mread_sql\u001b[0m\u001b[0;34m(\u001b[0m\u001b[0;34m\"delete from results\"\u001b[0m\u001b[0;34m,\u001b[0m \u001b[0mconn\u001b[0m\u001b[0;34m)\u001b[0m\u001b[0;34m\u001b[0m\u001b[0;34m\u001b[0m\u001b[0m\n\u001b[0m",
      "\u001b[0;32m~/anaconda3/envs/iowa/lib/python3.6/site-packages/pandas/io/sql.py\u001b[0m in \u001b[0;36mread_sql\u001b[0;34m(sql, con, index_col, coerce_float, params, parse_dates, columns, chunksize)\u001b[0m\n\u001b[1;32m    378\u001b[0m             \u001b[0msql\u001b[0m\u001b[0;34m,\u001b[0m \u001b[0mindex_col\u001b[0m\u001b[0;34m=\u001b[0m\u001b[0mindex_col\u001b[0m\u001b[0;34m,\u001b[0m \u001b[0mparams\u001b[0m\u001b[0;34m=\u001b[0m\u001b[0mparams\u001b[0m\u001b[0;34m,\u001b[0m\u001b[0;34m\u001b[0m\u001b[0;34m\u001b[0m\u001b[0m\n\u001b[1;32m    379\u001b[0m             \u001b[0mcoerce_float\u001b[0m\u001b[0;34m=\u001b[0m\u001b[0mcoerce_float\u001b[0m\u001b[0;34m,\u001b[0m \u001b[0mparse_dates\u001b[0m\u001b[0;34m=\u001b[0m\u001b[0mparse_dates\u001b[0m\u001b[0;34m,\u001b[0m\u001b[0;34m\u001b[0m\u001b[0;34m\u001b[0m\u001b[0m\n\u001b[0;32m--> 380\u001b[0;31m             chunksize=chunksize)\n\u001b[0m\u001b[1;32m    381\u001b[0m \u001b[0;34m\u001b[0m\u001b[0m\n\u001b[1;32m    382\u001b[0m     \u001b[0;32mtry\u001b[0m\u001b[0;34m:\u001b[0m\u001b[0;34m\u001b[0m\u001b[0;34m\u001b[0m\u001b[0m\n",
      "\u001b[0;32m~/anaconda3/envs/iowa/lib/python3.6/site-packages/pandas/io/sql.py\u001b[0m in \u001b[0;36mread_query\u001b[0;34m(self, sql, index_col, coerce_float, params, parse_dates, chunksize)\u001b[0m\n\u001b[1;32m   1467\u001b[0m         \u001b[0margs\u001b[0m \u001b[0;34m=\u001b[0m \u001b[0m_convert_params\u001b[0m\u001b[0;34m(\u001b[0m\u001b[0msql\u001b[0m\u001b[0;34m,\u001b[0m \u001b[0mparams\u001b[0m\u001b[0;34m)\u001b[0m\u001b[0;34m\u001b[0m\u001b[0;34m\u001b[0m\u001b[0m\n\u001b[1;32m   1468\u001b[0m         \u001b[0mcursor\u001b[0m \u001b[0;34m=\u001b[0m \u001b[0mself\u001b[0m\u001b[0;34m.\u001b[0m\u001b[0mexecute\u001b[0m\u001b[0;34m(\u001b[0m\u001b[0;34m*\u001b[0m\u001b[0margs\u001b[0m\u001b[0;34m)\u001b[0m\u001b[0;34m\u001b[0m\u001b[0;34m\u001b[0m\u001b[0m\n\u001b[0;32m-> 1469\u001b[0;31m         \u001b[0mcolumns\u001b[0m \u001b[0;34m=\u001b[0m \u001b[0;34m[\u001b[0m\u001b[0mcol_desc\u001b[0m\u001b[0;34m[\u001b[0m\u001b[0;36m0\u001b[0m\u001b[0;34m]\u001b[0m \u001b[0;32mfor\u001b[0m \u001b[0mcol_desc\u001b[0m \u001b[0;32min\u001b[0m \u001b[0mcursor\u001b[0m\u001b[0;34m.\u001b[0m\u001b[0mdescription\u001b[0m\u001b[0;34m]\u001b[0m\u001b[0;34m\u001b[0m\u001b[0;34m\u001b[0m\u001b[0m\n\u001b[0m\u001b[1;32m   1470\u001b[0m \u001b[0;34m\u001b[0m\u001b[0m\n\u001b[1;32m   1471\u001b[0m         \u001b[0;32mif\u001b[0m \u001b[0mchunksize\u001b[0m \u001b[0;32mis\u001b[0m \u001b[0;32mnot\u001b[0m \u001b[0;32mNone\u001b[0m\u001b[0;34m:\u001b[0m\u001b[0;34m\u001b[0m\u001b[0;34m\u001b[0m\u001b[0m\n",
      "\u001b[0;31mTypeError\u001b[0m: 'NoneType' object is not iterable"
     ]
    }
   ],
   "source": [
    "pd.read_sql(\"delete from results\", conn)"
   ]
  },
  {
   "cell_type": "code",
   "execution_count": 48,
   "metadata": {},
   "outputs": [],
   "source": [
    "\n",
    "sqlite_insert_query = \"\"\"INSERT INTO votes\n",
    "          (county, precinct, round, \n",
    "          buttigieg_votes, warren_votes, klobuchar_votes, biden_votes, yang_votes, \n",
    "          sanders_votes, steyer_votes, gabbard_votes, other_votes, uncommitted_votes) \n",
    "          VALUES (?, ?, ?, ?, ?, ?, ?, ?, ?, ?, ?, ?, ?);\"\"\"\n",
    "\n",
    "vote_col_list = list(pd.read_sql(\"select * from votes\", conn).columns)\n",
    "df = pd.DataFrame(input_json, index=[0])\n",
    "df = df.loc[:, vote_col_list]\n",
    "recordList = df.get_values()\n",
    "\n",
    "cursor.executemany(sqlite_insert_query, recordList)\n",
    "conn.commit()\n",
    "conn.close()"
   ]
  },
  {
   "cell_type": "code",
   "execution_count": 127,
   "metadata": {},
   "outputs": [],
   "source": [
    "con = sqlite3.connect(\"../db/votes.db\")\n",
    "cur = con.cursor()\n",
    "\n",
    "# merge\n",
    "df = pd.read_sql_query(\"SELECT * from votes WHERE round = 2\", con)\n",
    "cd_map = pd.read_sql_query(\"SELECT * from precinct_d\", con)\n",
    "rdf = df.merge(cd_map, how='left', on=['county','precinct'])\n",
    "vote_cols = [c for c in rdf.columns if '_votes' in c]\n",
    "rdf.loc[:,'total_votes'] = rdf.loc[:, vote_cols].sum(axis=1)\n",
    "for c in vote_cols:\n",
    "    rdf.loc[:,c[:-6]+'_sdes'] = rdf.loc[:, c] / rdf['total_votes'] * rdf['CD2SDE']\n",
    "\n",
    "del rdf['CD2SDE']\n",
    "del rdf['round']\n",
    "del rdf['total_votes']"
   ]
  },
  {
   "cell_type": "code",
   "execution_count": 130,
   "metadata": {},
   "outputs": [
    {
     "data": {
      "text/plain": [
       "23"
      ]
     },
     "execution_count": 130,
     "metadata": {},
     "output_type": "execute_result"
    }
   ],
   "source": [
    "len(rdf.columns)"
   ]
  },
  {
   "cell_type": "code",
   "execution_count": 139,
   "metadata": {},
   "outputs": [],
   "source": [
    "dic = {'hi':'','what':'me'}"
   ]
  },
  {
   "cell_type": "code",
   "execution_count": 144,
   "metadata": {},
   "outputs": [
    {
     "name": "stdout",
     "output_type": "stream",
     "text": [
      "hi\n",
      "True\n",
      "what\n",
      "False\n"
     ]
    }
   ],
   "source": [
    "for k,v in dic.items():\n",
    "    if v ==''\n",
    "    dic[k] = \n",
    "\n"
   ]
  },
  {
   "cell_type": "code",
   "execution_count": 5,
   "metadata": {},
   "outputs": [
    {
     "name": "stdout",
     "output_type": "stream",
     "text": [
      "delegate_apportionment_clean.csv  iowa_raw_results.csv\r\n"
     ]
    }
   ],
   "source": [
    "ls data"
   ]
  },
  {
   "cell_type": "code",
   "execution_count": 12,
   "metadata": {},
   "outputs": [
    {
     "data": {
      "text/plain": [
       "'/Users/andrewsang/datasci/iowa_caucus'"
      ]
     },
     "execution_count": 12,
     "metadata": {},
     "output_type": "execute_result"
    }
   ],
   "source": [
    "pwd"
   ]
  },
  {
   "cell_type": "code",
   "execution_count": 2,
   "metadata": {},
   "outputs": [],
   "source": [
    "import pandas as pd"
   ]
  },
  {
   "cell_type": "code",
   "execution_count": 6,
   "metadata": {},
   "outputs": [],
   "source": [
    "df = pd.read_csv('../data/delegate_apportionment_clean.csv', index_col=0)\n",
    "df = df.sort_values(['county','precinct'])"
   ]
  },
  {
   "cell_type": "code",
   "execution_count": 7,
   "metadata": {},
   "outputs": [],
   "source": [
    "d = df.groupby('county')['precinct'].apply(list).to_dict()"
   ]
  },
  {
   "cell_type": "code",
   "execution_count": 10,
   "metadata": {},
   "outputs": [
    {
     "data": {
      "text/plain": [
       "array(['Adair', 'Adams', 'Allamakee', 'Appanoose', 'Audubon', 'Benton',\n",
       "       'Black Hawk', 'Boone', 'Bremer', 'Buchanan', 'Buena Vista',\n",
       "       'Butler', 'Calhoun', 'Carroll', 'Cass', 'Cedar', 'Cerro Gordo',\n",
       "       'Cherokee', 'Chickasaw', 'Clarke', 'Clay', 'Clayton', 'Clinton',\n",
       "       'Crawford', 'Dallas', 'Davis', 'Decatur', 'Delaware', 'Des Moines',\n",
       "       'Dickinson', 'Dubuque', 'Emmet', 'Fayette', 'Floyd', 'Franklin',\n",
       "       'Fremont', 'Greene', 'Grundy', 'Guthrie ', 'Hamilton', 'Hancock',\n",
       "       'Hardin', 'Harrison', 'Henry', 'Howard', 'Humboldt', 'Ida', 'Iowa',\n",
       "       'Jackson', 'Jasper', 'Jefferson', 'Johnson', 'Jones ', 'Keokuk',\n",
       "       'Kossuth', 'Lee', 'Linn', 'Louisa', 'Lucas', 'Lyon', 'Madison',\n",
       "       'Mahaska', 'Marion', 'Marshall', 'Mills', 'Mitchell', 'Monona',\n",
       "       'Monroe', 'Montgomery', 'Muscatine', \"O'Brien\", 'Osceola', 'Page',\n",
       "       'Palo Alto', 'Plymouth', 'Pocahontas', 'Polk', 'Pottawattamie',\n",
       "       'Poweshiek', 'Ringgold', 'Sac', 'Scott', 'Shelby', 'Sioux',\n",
       "       'Story', 'Tama', 'Taylor', 'Union', 'Van Buren', 'Wapello',\n",
       "       'Warren', 'Washington', 'Wayne', 'Webster', 'Winnebago',\n",
       "       'Winneshiek', 'Woodbury', 'Worth', 'Wright'], dtype=object)"
      ]
     },
     "execution_count": 10,
     "metadata": {},
     "output_type": "execute_result"
    }
   ],
   "source": [
    "df['county'].unique()"
   ]
  },
  {
   "cell_type": "code",
   "execution_count": 8,
   "metadata": {},
   "outputs": [],
   "source": [
    "import json"
   ]
  },
  {
   "cell_type": "code",
   "execution_count": 9,
   "metadata": {},
   "outputs": [
    {
     "data": {
      "text/plain": [
       "'{\"Adair\": [\"01NW\", \"02NE\", \"03SW\", \"04SE\", \"05GF\"], \"Adams\": [\"AD1\", \"AD2\", \"AD3\", \"AD4\", \"AD5\"], \"Allamakee\": [\"PCT 1\", \"PCT 10\", \"PCT 11\", \"PCT 2\", \"PCT 3\", \"PCT 4\", \"PCT 5\", \"PCT 6\", \"PCT 7\", \"PCT 8\", \"PCT 9\"], \"Appanoose\": [\"BL\", \"CV1\", \"CV2\", \"CV3\", \"CW\", \"JO\", \"PS\", \"TY\", \"UD\", \"VM\", \"WALNUT\", \"WS\"], \"Audubon\": [\"1\", \"2\"], \"Benton\": [\"BG\", \"BN\", \"BP1\", \"BP2\", \"BP3\", \"BR\", \"ED\", \"EL\", \"FL\", \"FR\", \"HO\", \"IA\", \"KA\", \"PO\", \"VT1\", \"VT2\", \"VT3\", \"VT4\", \"WA\"], \"Black Hawk\": [\"ALOO\", \"B000\", \"C000\", \"DK00\", \"DM00\", \"EO00\", \"G000\", \"J100\", \"J200\", \"J300\", \"J400\", \"N000\", \"PH01\", \"PK02\", \"Q000\", \"R000\", \"S000\", \"W101\", \"W102\", \"W103\", \"W104\", \"W105\", \"W106\", \"W201\", \"W202\", \"W203\", \"W204\", \"W205\", \"W206\", \"W301\", \"W302\", \"W303\", \"W304\", \"W305\", \"W306\", \"W401\", \"W402\", \"W403\", \"W404\", \"W405\", \"W406\", \"W501\", \"W502\", \"W503\", \"W504\", \"W505\", \"W506\", \"X101\", \"X102\", \"X103\", \"X201\", \"X202\", \"X203\", \"X301\", \"X302\", \"X303\", \"X401\", \"X402\", \"X403\", \"X501\", \"X502\", \"X503\"], \"Boone\": [\"BN1\", \"BN2\", \"BN3\", \"BN4\", \"BN5\", \"MD1\", \"MD2\", \"MD3\", \"OG\", \"RP1\", \"RP2\", \"RP3\", \"RP4\", \"RP5\", \"RP6\"], \"Bremer\": [\"DV\", \"FD\", \"JV\", \"LA\", \"PL\", \"RD\", \"SU\", \"TR\", \"WL1\", \"WL2\", \"WL3\", \"WL4\", \"WL5\"], \"Buchanan\": [\"AR\", \"BD\", \"FB\", \"HT\", \"I1\", \"I2\", \"I3\", \"I4\", \"I5\", \"JS\", \"MN\", \"PW\", \"QT\", \"RW\", \"WN\"], \"Buena Vista\": [\"1\", \"2\", \"3\", \"4\", \"ACFC\", \"ALNE\", \"LKHM\", \"NENP\", \"S-M-L-R\", \"TRWG\"], \"Butler\": [\"1-GR\", \"2-CL\", \"3-DU\", \"4-AL\", \"5-AP\", \"6-SR\", \"7-PB\", \"8-NH\"], \"Calhoun\": [\"BUWM\", \"CEDAR\", \"CHJEGLK\", \"CNLGTGA\", \"GREENFI\", \"LINCOLN\", \"READING\", \"ROCKWEL\", \"SHERMAN\", \"UNION\"], \"Carroll\": [\"1\", \"10\", \"11\", \"12\", \"13\", \"2\", \"3\", \"4\", \"5\", \"6\", \"7\", \"8\", \"9\"], \"Cass\": [\"AN\", \"AT1\", \"AT2\", \"AT3\", \"AT4\", \"AT5\", \"BN\", \"CU\", \"GS\", \"LW\", \"MR\", \"MS\", \"VI\"], \"Cedar\": [\"CN\", \"DA\", \"FM\", \"FR\", \"GW\", \"IN\", \"LN\", \"MA\", \"TT1\", \"TT2\", \"TT3\", \"WB1\"], \"Cerro Gordo\": [\"CL\", \"CL1\", \"CL2\", \"CL3\", \"FLN\", \"FLS\", \"GME\", \"GMW\", \"GN\", \"LCN\", \"LK\", \"MC W1P1\", \"MC W1P2\", \"MC W1P3\", \"MC W2P1\", \"MC W2P2\", \"MC W2P3\", \"MC W3P1\", \"MC W3P2\", \"MC W3P3\", \"MC W4P1\", \"MC W4P2\", \"MC W4P3\", \"MSB\", \"MV\", \"POD\"], \"Cherokee\": [\"1 AUR\", \"2 CLEG\", \"3 QUIM\", \"4 CHER\", \"5 CH W1\", \"6 CH W2\", \"7 CH W3\"], \"Chickasaw\": [\"BD\", \"CH\", \"DA-RD\", \"DF-W2\", \"DS-FB\", \"JA-UT\", \"NH1\", \"NH2\", \"NH3\", \"NH4\", \"NHR\", \"ST\", \"WA1\"], \"Clarke\": [\"MDL\", \"MY\", \"NE\", \"OC1\", \"OC2\", \"OC3\", \"WB\"], \"Clay\": [\"DGPE\", \"GFHD\", \"LAFR\", \"LGGG\", \"LNCL\", \"SP1\", \"SP2\", \"SP3\", \"SP4\", \"SP5\", \"SRSM\", \"WFLT\"], \"Clayton\": [\"BM-HI\", \"BV\", \"CC-SY\", \"CL-GV\", \"CS\", \"ELMYVO\", \"FB-WG\", \"GDLUMO\", \"GM\", \"JF-MV\", \"LM\", \"MN\", \"MR\", \"RD\"], \"Clinton\": [\"BBRD\", \"CAM1\", \"CAM2\", \"CENT\", \"CL11\", \"CL12\", \"CL21\", \"CL22\", \"CL31\", \"CL32\", \"CL41\", \"CL42\", \"DCGL\", \"DEW1\", \"DEW2\", \"DEWT\", \"EDCM\", \"ERHA\", \"LBTO\", \"LOMO\", \"OGCA\", \"ORGM\", \"SHLN\", \"SRWH\", \"WFCH\", \"WWAW\"], \"Crawford\": [\"CO\", \"D1\", \"D2-DT\", \"D3-GR\", \"DC-AB\", \"NE\", \"SE\", \"SRK\"], \"Dallas\": [\"ADS\", \"AL1\", \"AL2\", \"BDM\", \"CL5\", \"CL6\", \"COA\", \"DO\", \"LWL\", \"PY1\", \"PY2\", \"PY3\", \"SD\", \"SGDC\", \"UN\", \"URB13\", \"URB14\", \"URB15\", \"VM\", \"WGG\", \"WK1\", \"WK2\", \"WK3\", \"WK4\", \"WK5\", \"WK6\", \"WM221\", \"WM222\", \"WM223\", \"WM224\", \"WM225\", \"WM226\", \"WM321\", \"WM322\"], \"Davis\": [\"BF1\", \"BF2\", \"BF3\", \"CN\", \"NE\", \"NW\", \"SE\", \"SW\"], \"Decatur\": [\"BL\", \"BU\", \"DE\", \"GG\", \"GR\", \"LC\", \"LE\"], \"Delaware\": [\"ADHG\", \"CL\", \"DH\", \"DW\", \"HCEK\", \"MC1\", \"MC2\", \"MC3\", \"MLPR\", \"ONNFBM\", \"RLCG\", \"SFUN\"], \"Des Moines\": [\"BU1T\", \"BU2\", \"BU3\", \"BU4\", \"BU5\", \"BU6\", \"BU7\", \"BU8C\", \"BU9\", \"DM\", \"FM\", \"HJ\", \"MY\", \"PW\", \"UNION\", \"WB\"], \"Dickinson\": [\"PCT 01\", \"PCT 02\", \"PCT 03\", \"PCT 04\", \"PCT 05\", \"PCT 06\", \"PCT 07\", \"PCT 08\", \"PCT 09\", \"PCT 10\", \"PCT 11\", \"PCT 12\", \"PCT 13\", \"PCT 14\", \"PCT 15\"], \"Dubuque\": [\"09A\", \"1\", \"10\", \"11\", \"12\", \"13\", \"14\", \"15\", \"16\", \"17\", \"18\", \"19\", \"2\", \"20\", \"3\", \"31\", \"32\", \"33\", \"34\", \"35\", \"36\", \"37\", \"38\", \"39\", \"4\", \"40\", \"41\", \"42\", \"43\", \"44\", \"45\", \"5\", \"6\", \"7\", \"8\"], \"Emmet\": [\"1\", \"10\", \"11\", \"2\", \"3\", \"4\", \"5\", \"6\", \"7\", \"8\", \"9\"], \"Fayette\": [\"AU\", \"BF\", \"BW\", \"CE\", \"CL\", \"DV\", \"ED\", \"FB\", \"FP\", \"HL\", \"IL\", \"JF\", \"OE1\", \"OE2\", \"OE3\", \"OE4\", \"OR\", \"PL\", \"SC\", \"SF\", \"UN\", \"WE1\", \"WE2\", \"WE3\", \"WF\"], \"Floyd\": [\"CC1\", \"CC2\", \"CC3\", \"FLCENI\", \"RFUL\", \"RGRU\", \"SCRV\", \"SCUNPG\"], \"Franklin\": [\"GNIGEM\", \"GROC\", \"HLLERV\", \"HP1\", \"HP2\", \"HP3\", \"HP4\", \"MA\", \"OKMG\", \"RLRSWF\", \"WMO\", \"WRSC\"], \"Fremont\": [\"FG\", \"GNRSSC\", \"HB\", \"RT\", \"SN\"], \"Greene\": [\"CENTRAL\", \"EAST\", \"J1\", \"J2\", \"J3\", \"NORTH\", \"WEST\"], \"Grundy\": [\"P1\", \"P2\", \"P3\", \"P4\", \"P5\", \"P6\", \"P7\"], \"Guthrie \": [\"1\", \"2\", \"3\", \"4\", \"5\", \"6\", \"7\", \"8\"], \"Hamilton\": [\"PCT 1\", \"PCT 2\", \"PCT 3\", \"PCT 4\", \"PCT 5\", \"WC1\", \"WC2\", \"WC3\"], \"Hancock\": [\"1\", \"10\", \"2\", \"3\", \"4\", \"5\", \"6\", \"7\", \"8\", \"9\"], \"Hardin\": [\"AL\", \"CC\", \"EL\", \"ELC\", \"ET\", \"HA\", \"IF1\", \"IF2\"], \"Harrison\": [\"BO\", \"HS\", \"JA\", \"JF\", \"LO\", \"LS\", \"MA\", \"MR\", \"MV\", \"SJ\", \"TA\", \"WB\", \"WS\"], \"Henry\": [\"CE\", \"MP1\", \"MP2\", \"MP3\", \"MP4\", \"NE\", \"NW\", \"SE\", \"SW\"], \"Howard\": [\"AF\", \"AL\", \"CR1A\", \"CR1B\", \"CR2\", \"CR3\", \"NO\", \"RJO\", \"SHC\"], \"Humboldt\": [\"A-NW\", \"D-W-NR\", \"DC-GR\", \"H-WV\", \"H1-C-SW\", \"H2-B-SN\", \"H3-SR\", \"NL-EV\", \"SL-NN\"], \"Ida\": [\"BL\", \"GG\", \"GV\", \"IG1\", \"IG2\", \"IG3\", \"MP\"], \"Iowa\": [\"DA\", \"EN\", \"FM\", \"HC\", \"HL\", \"HS\", \"HT\", \"LX\", \"MR\", \"PI\", \"WM\"], \"Jackson\": [\"1\", \"10\", \"11\", \"12\", \"13\", \"14\", \"15\", \"16\", \"2\", \"3\", \"4\", \"5\", \"6\", \"7\", \"8\", \"9\"], \"Jasper\": [\"CF-1\", \"CF-2\", \"CF-3\", \"CP\", \"DM\", \"EL\", \"FV\", \"HR\", \"IMM\", \"MW\", \"NS\", \"NT1-1\", \"NT1-2\", \"NT2-1\", \"NT2-2\", \"NT3-1\", \"NT3-2\", \"NT4-1\", \"NT4-2\", \"PA\"], \"Jefferson\": [\"BH-PO\", \"BU\", \"CT\", \"DM\", \"FF1\", \"FF2\", \"FF3\", \"FF4\", \"FF5\", \"LG\", \"PN\", \"WLR\"], \"Johnson\": [\"BG\", \"CC\", \"CE\", \"CV.01\", \"CV.02\", \"CV.03\", \"CV.04\", \"CV.05\", \"CV.06\", \"CV.07\", \"FR\", \"GR\", \"HD\", \"HS\", \"IC.01\", \"IC.02\", \"IC.03\", \"IC.04\", \"IC.05\", \"IC.06\", \"IC.07\", \"IC.08\", \"IC.09\", \"IC.10\", \"IC.11\", \"IC.12\", \"IC.13\", \"IC.14\", \"IC.15\", \"IC.16\", \"IC.17\", \"IC.18\", \"IC.19\", \"IC.20\", \"IC.21\", \"IC.22\", \"IC.23\", \"IC.24\", \"JE\", \"JW\", \"LB\", \"NL.01\", \"NL.02\", \"NL.03\", \"NL.04\", \"NL.05\", \"NL.06\", \"NP\", \"OX\", \"PN\", \"SC\", \"SN\", \"SO\", \"UH\", \"UN\", \"WL\", \"WS\"], \"Jones \": [\"ANN\", \"ANS\", \"CGLW\", \"FV\", \"GF\", \"MN1\", \"MN2\", \"MN3\", \"MN4\", \"OX\", \"RLWS\", \"ROHA\", \"SGMC\", \"WY\"], \"Keokuk\": [\"AD\", \"BN\", \"ER\", \"JA\", \"LC\", \"LF/CC\", \"PR\", \"RL\", \"SG1\", \"SG2\", \"SG3\", \"SG4\", \"SGR\", \"WC\", \"WN\"], \"Kossuth\": [\"AL1\", \"AL2\", \"AL3\", \"AL4\", \"BF\", \"BT\", \"CR\", \"CR 1\", \"CR 2\", \"EG\", \"GF\", \"GM\", \"GW\", \"HB\", \"IV\", \"LC\", \"LV\", \"PC\", \"PR\", \"UN\"], \"Lee\": [\"CH VB\", \"FM1\", \"FM2\", \"FM3\", \"FM4A\", \"FM4B\", \"FM5\", \"FR CE\", \"HR\", \"JF\", \"JK\", \"KE1\", \"KE2A\", \"KE2B\", \"KE3\", \"KE4\", \"KE5\", \"KE6\", \"KE7\", \"MO\", \"WPPRDN\", \"WS GB\"], \"Linn\": [\"CR01\", \"CR02\", \"CR03\", \"CR04\", \"CR05\", \"CR06\", \"CR07\", \"CR08\", \"CR09\", \"CR10\", \"CR11\", \"CR12\", \"CR13\", \"CR14\", \"CR15\", \"CR16\", \"CR17\", \"CR18\", \"CR19\", \"CR20\", \"CR21\", \"CR22\", \"CR23\", \"CR24\", \"CR25\", \"CR26\", \"CR27\", \"CR28\", \"CR29\", \"CR30\", \"CR31\", \"CR32\", \"CR33\", \"CR34\", \"CR35\", \"CR36\", \"CR37\", \"CR38\", \"CR39\", \"CR40\", \"CR41\", \"CR42\", \"CR43\", \"CR44\", \"FAI\", \"HIA01\", \"HIA02\", \"HIA03\", \"HIA04\", \"MR01\", \"MR02\", \"MR03\", \"MR04\", \"MR05\", \"MR06\", \"MR07\", \"MR08\", \"MR09\", \"MR10\", \"MR11\", \"MR12\", \"MR13\", \"MR14\", \"MVN\", \"MVS\", \"ROB\", \"TBER\", \"TBOU\", \"TBRO\", \"TBUF\", \"TCLI\", \"TCOL\", \"TFAI\", \"TFAY\", \"TFRA\", \"TGRA\", \"TJAC\", \"TLIN\", \"TMAI\", \"TMAR\", \"TMON1\", \"TMON2\", \"TOTT\", \"TPUT\", \"TSPR\", \"TWAS\"], \"Louisa\": [\"CJ\", \"GV\", \"MS\", \"SEL\", \"WL\"], \"Lucas\": [\"C1\", \"C2\", \"EX\", \"LC\", \"POM\", \"RS\", \"WM\"], \"Lyon\": [\"P1\", \"P2\", \"P3\", \"P4\", \"P5\", \"P6\", \"P7\", \"P8\"], \"Madison\": [\"GMW\", \"JDL\", \"JL\", \"PM\", \"S\", \"UCS\", \"WO\", \"WT1\", \"WT2\"], \"Mahaska\": [\"AD\", \"BO\", \"CE\", \"ED\", \"GF\", \"OS1\", \"OS2\", \"OS3\", \"OS4\", \"PR\", \"SP\"], \"Marion\": [\"CL\", \"DA\", \"IN\", \"KX1\", \"KX2\", \"KX3\", \"KX4\", \"KXT\", \"LB\", \"LP\", \"OTLEY\", \"PE1\", \"PE2\", \"PE3\", \"PE4\", \"PVLLE\", \"WS\"], \"Marshall\": [\"1 BA-LS\", \"10 1-2\", \"11 2-1\", \"12 2-2\", \"13 3-1\", \"14 3-2\", \"15 4-1\", \"16 4-2\", \"17 SC\", \"18 TA\", \"19 TC\", \"2 ED-LO\", \"3 GC\", \"4 JF\", \"5 LG\", \"6 LB-MI\", \"7 MA-WA\", \"8 MR-VI\", \"9 1-1\"], \"Mills\": [\"DR\", \"EM\", \"GW1\", \"GW2\", \"GW3\", \"GWR\", \"HN\", \"MV\", \"OK\", \"PJ\", \"SV\"], \"Mitchell\": [\"10\", \"11\", \"12\", \"5\", \"6\", \"7\", \"8\", \"9\", \"OS1\", \"OS2\", \"OS3\", \"OS4\"], \"Monona\": [\"AS001\", \"CN002\", \"CP003\", \"FV004\", \"MH005\", \"ON106\", \"ON207\", \"ON308\", \"ON409\", \"SH010\", \"STC11\"], \"Monroe\": [\"AL1\", \"AL2\", \"AL3\", \"AL4\", \"CTHSE\", \"LOVILIA\", \"MELROSE\"], \"Montgomery\": [\"1\", \"2\", \"3\", \"4\", \"5\", \"6\", \"7\"], \"Muscatine\": [\"76CE\", \"BL\", \"F1\", \"F2LA\", \"FUMO\", \"GO\", \"MU01\", \"MU02\", \"MU03\", \"MU04\", \"MU05\", \"MU06\", \"MU07\", \"MU08\", \"MU09\", \"MU10\", \"OR\", \"PI\", \"SW\", \"WC\", \"WL2\", \"WLWA\", \"WTMW\"], \"O\\'Brien\": [\"P1\", \"P2\", \"P3\", \"P4\", \"P5\", \"P6\", \"P7\", \"P8\", \"P9\"], \"Osceola\": [\"AT\", \"HA\", \"MC\", \"MV\", \"OS1\", \"OS2\", \"OS3\", \"OX\"], \"Page\": [\"CL1\", \"CL2\", \"ER\", \"GT\", \"PC\", \"SD1\", \"SD2\", \"SD3\"], \"Palo Alto\": [\"EM1\", \"EM2\", \"EM3\", \"EM4\", \"GR RV\", \"WB\"], \"Plymouth\": [\"AK\", \"BV\", \"HT\", \"KL\", \"LM11\", \"LM12\", \"LM13\", \"MR\", \"MRHG\", \"PY\", \"RM\", \"SB\", \"WF\"], \"Pocahontas\": [\"BV\", \"CD\", \"DM\", \"GT\", \"PH1\", \"PH2\", \"SW\"], \"Polk\": [\"ALLEMAN\", \"ALLEN 1\", \"ALT 1\", \"ALT 2\", \"ALT 3\", \"ALT 4\", \"ALT 5\", \"ANK 01\", \"ANK 02\", \"ANK 03\", \"ANK 04\", \"ANK 05\", \"ANK 06\", \"ANK 07\", \"ANK 08\", \"ANK 09\", \"ANK 10\", \"ANK 11\", \"ANK 12\", \"ANK 13\", \"ANK 14\", \"ANK 15\", \"BOND 1\", \"BOND 2\", \"CLAY 1\", \"CLIVE 1\", \"CLIVE 2\", \"CLIVE 3\", \"CLIVE 4\", \"CROCK 1\", \"CROCK 2\", \"DEL 1\", \"DEL 2\", \"DM 001\", \"DM 002\", \"DM 003\", \"DM 004\", \"DM 005\", \"DM 006\", \"DM 007\", \"DM 008\", \"DM 009\", \"DM 010\", \"DM 011\", \"DM 012\", \"DM 013\", \"DM 014\", \"DM 015\", \"DM 016\", \"DM 017\", \"DM 018\", \"DM 019\", \"DM 020\", \"DM 021\", \"DM 022\", \"DM 023\", \"DM 024\", \"DM 025\", \"DM 026\", \"DM 027\", \"DM 028\", \"DM 029\", \"DM 030\", \"DM 031\", \"DM 032\", \"DM 033\", \"DM 034\", \"DM 035\", \"DM 036\", \"DM 037\", \"DM 038\", \"DM 039\", \"DM 040\", \"DM 041\", \"DM 042\", \"DM 043\", \"DM 044\", \"DM 045\", \"DM 046\", \"DM 047\", \"DM 048\", \"DM 049\", \"DM 050\", \"DM 051\", \"DM 052\", \"DM 053\", \"DM 054\", \"DM 055\", \"DM 056\", \"DM 057\", \"DM 058\", \"DM 059\", \"DM 060\", \"DM 061\", \"DM 062\", \"DM 063\", \"DM 064\", \"DM 065\", \"DM 066\", \"DM 067\", \"DM 068\", \"DM 069\", \"DM 070\", \"DM 071\", \"DM 072\", \"DM 073\", \"DM 074\", \"DM 075\", \"DM 076\", \"DM 077\", \"DM 078\", \"DM 079\", \"DM 080\", \"DM 081\", \"DM 082\", \"DM 083\", \"DM 084\", \"DOUGLAS\", \"ELKHART\", \"FOUR MI\", \"FRANKLI\", \"GRANGER\", \"GRIMES1\", \"GRIMES2\", \"GRIMES3\", \"JEFF 1\", \"JOHN 1\", \"JOHN 2\", \"JOHN 3\", \"JOHN 4\", \"JOHN 5\", \"JOHN 6\", \"MADISON\", \"MITCHEL\", \"PH 1\", \"PH 2\", \"PH 3\", \"POLK CI\", \"RUNNELL\", \"SAYLOR1\", \"SAYLOR2\", \"SHELDAH\", \"URB 01\", \"URB 02\", \"URB 03\", \"URB 04\", \"URB 05\", \"URB 06\", \"URB 07\", \"URB 08\", \"URB 09\", \"URB 10\", \"URB 11\", \"WASH 1\", \"WB 1\", \"WDM-111\", \"WDM-112\", \"WDM-113\", \"WDM-114\", \"WDM-115\", \"WDM-116\", \"WDM-117\", \"WDM-118\", \"WDM-211\", \"WDM-212\", \"WDM-213\", \"WDM-311\", \"WDM-312\", \"WDM-313\", \"WDM-314\", \"WDM-315\", \"WDM-316\", \"WDM-317\", \"WDM-318\", \"WHTS 1\", \"WHTS 2\", \"WHTS 3\"], \"Pottawattamie\": [\"AVOCA\", \"CARSON\", \"CB 01\", \"CB 02\", \"CB 03\", \"CB 04\", \"CB 05\", \"CB 06\", \"CB 07\", \"CB 08\", \"CB 09\", \"CB 10A\", \"CB 10B\", \"CB 11\", \"CB 12\", \"CB 13\", \"CB 14\", \"CB 15\", \"CB 16\", \"CB 17\", \"CB 18\", \"CB 19\", \"CB 20\", \"CB 21\", \"CL 1\", \"CL 2\", \"CRESC\", \"GARNER\", \"GLWCW\", \"HANCOCK\", \"LEWIS 1\", \"LEWIS 2\", \"MACEDON\", \"MCCLELL\", \"MINDEN\", \"NEOLA\", \"OAKLAND\", \"TREYNOR\", \"UNDERW\", \"WALNUT\"], \"Poweshiek\": [\"10\", \"11\", \"2\", \"3\", \"4\", \"5\", \"6\", \"7\", \"8\", \"9\"], \"Ringgold\": [\"AT\", \"CL\", \"M1\", \"M2\", \"TG\", \"UN\", \"WS\"], \"Sac\": [\"1\", \"2\", \"3\", \"4\", \"5\", \"6\", \"7\", \"8\", \"9\"], \"Scott\": [\"AG\", \"B11\", \"B12\", \"B21\", \"B22\", \"B23\", \"B31\", \"B32\", \"B41\", \"B42\", \"B51\", \"B52\", \"BF\", \"BG\", \"BU\", \"D11\", \"D12\", \"D13\", \"D14\", \"D21\", \"D22\", \"D23\", \"D24\", \"D31\", \"D32\", \"D33\", \"D34\", \"D41\", \"D42\", \"D43\", \"D44\", \"D51\", \"D52\", \"D53\", \"D54\", \"D61\", \"D62\", \"D63\", \"D64\", \"D71\", \"D72\", \"D73\", \"D74\", \"D81\", \"D82\", \"D83\", \"D84\", \"DH\", \"EL1\", \"EL2\", \"HG\", \"LB\", \"LC1\", \"LC2\", \"LCT\", \"LG\", \"MC\", \"PKV\", \"PR\", \"PV\", \"RV\", \"WC\", \"WF\"], \"Shelby\": [\"10\", \"2\", \"3\", \"4\", \"5\", \"6\", \"7\", \"8\", \"9\"], \"Sioux\": [\"AT\", \"FL\", \"GT\", \"HW\", \"LN\", \"OC1\", \"OC2\", \"PL\", \"RD\", \"RVE\", \"RVW\", \"SCC\", \"SCN\", \"SCS\", \"SM\", \"WB\"], \"Story\": [\"1\", \"10\", \"11\", \"12\", \"13\", \"14\", \"15\", \"16\", \"17\", \"18\", \"19\", \"2\", \"20\", \"21\", \"22\", \"23\", \"24\", \"25\", \"26\", \"27\", \"28\", \"29\", \"3\", \"30\", \"31\", \"32\", \"33\", \"34\", \"35\", \"36\", \"37\", \"38\", \"39\", \"4\", \"40\", \"41\", \"42\", \"43\", \"5\", \"6\", \"7\", \"8\", \"9\"], \"Tama\": [\"CB/TM\", \"CK/GE\", \"CRONNOC\", \"CT\", \"GR\", \"H/TL\", \"HL/IV/T\", \"IS\", \"LI\", \"PY/CY/B\", \"RL/ST\", \"SOC\", \"SP/WC\", \"TLCITY\", \"YK\"], \"Taylor\": [\"3TWNSHP\", \"BECITY\", \"BK\", \"CF\", \"GRAVITY\", \"LX\", \"NM\"], \"Union\": [\"AF\", \"AR\", \"CS1\", \"CS2\", \"CS3\", \"CS4\", \"CS5\", \"LR\"], \"Van Buren\": [\"BI\", \"BO\", \"CN\", \"DO\", \"FM\", \"KE\", \"ML\", \"SP\"], \"Wapello\": [\"AD\", \"AG\", \"CB\", \"CN\", \"CP\", \"CS\", \"DA\", \"GR\", \"HI\", \"KE\", \"OT01\", \"OT02\", \"OT03\", \"OT04\", \"OT05\", \"OT06\", \"OT07\", \"OT08\", \"OT09\", \"OT10\", \"RL\", \"WA\"], \"Warren\": [\"AL2\", \"AL3\", \"BM\", \"CM WDM\", \"GR1\", \"GR1DM85\", \"GR1DM86\", \"GR2LC2\", \"IN1\", \"IN2\", \"IN3\", \"IN4\", \"IN5\", \"IN6\", \"IN7\", \"JF\", \"JK\", \"LB\", \"LC1\", \"NW1\", \"NW2 GR1\", \"NW3 LN\", \"NWK4\", \"OT ML\", \"PM\", \"RL\", \"SQC\", \"UN\", \"VA\", \"WB\", \"WHO\"], \"Washington\": [\"AW\", \"BMC\", \"KA\", \"RS\", \"WC\", \"WL\", \"WS1\", \"WS2\", \"WS3\", \"WS4\"], \"Wayne\": [\"A01\", \"C02\", \"H03\", \"S04\"], \"Webster\": [\"1\", \"10\", \"11\", \"12\", \"2\", \"3\", \"4\", \"5\", \"6\", \"7\", \"8\", \"9\", \"BD/NWC\", \"CD\", \"CP\", \"CR\", \"DA/BU\", \"DJ\", \"DO\", \"EL\", \"FU\", \"GO\", \"JO\", \"LG\", \"NE\", \"OT/PV\", \"SWYH\", \"WA\"], \"Winnebago\": [\"BUGRLC\", \"CENTER\", \"EDLONO\", \"FC 1\", \"FC 2\", \"FC 4\", \"FC3D3\", \"KILI\", \"MVFOD2\", \"NEFOD1\"], \"Winneshiek\": [\"1\", \"10\", \"11\", \"2\", \"3\", \"4\", \"5\", \"6\", \"7\", \"8\", \"9\"], \"Woodbury\": [\"1\", \"10\", \"11\", \"12\", \"13\", \"14\", \"15\", \"16\", \"17\", \"18\", \"19\", \"2\", \"20\", \"21\", \"22\", \"23\", \"24\", \"25\", \"26\", \"27\", \"28\", \"29\", \"3\", \"30\", \"31\", \"32\", \"33\", \"34\", \"35\", \"36\", \"37\", \"38\", \"39\", \"4\", \"40\", \"41\", \"42\", \"43\", \"44\", \"5\", \"6\", \"7\", \"8\", \"9\"], \"Worth\": [\"W11\", \"W12\", \"W21\", \"W22\", \"W23\", \"W24\", \"W31\"], \"Wright\": [\"BIG_6\", \"BM\", \"CL\", \"DOWS\", \"EG1\", \"EG2\", \"EG3\", \"EG4\", \"GLDFLD\", \"RURALEG\"]}'"
      ]
     },
     "execution_count": 9,
     "metadata": {},
     "output_type": "execute_result"
    }
   ],
   "source": [
    "json.dumps(d)"
   ]
  },
  {
   "cell_type": "code",
   "execution_count": 3,
   "metadata": {},
   "outputs": [],
   "source": [
    "import sqlite3"
   ]
  },
  {
   "cell_type": "code",
   "execution_count": 4,
   "metadata": {},
   "outputs": [],
   "source": [
    "with sqlite3.connect(\"../db/votes.db\") as conn:\n",
    "    res = pd.read_sql(\"select * from results\", conn)"
   ]
  },
  {
   "cell_type": "code",
   "execution_count": 21,
   "metadata": {},
   "outputs": [],
   "source": []
  },
  {
   "cell_type": "code",
   "execution_count": 22,
   "metadata": {},
   "outputs": [
    {
     "data": {
      "text/html": [
       "<div>\n",
       "<style scoped>\n",
       "    .dataframe tbody tr th:only-of-type {\n",
       "        vertical-align: middle;\n",
       "    }\n",
       "\n",
       "    .dataframe tbody tr th {\n",
       "        vertical-align: top;\n",
       "    }\n",
       "\n",
       "    .dataframe thead th {\n",
       "        text-align: right;\n",
       "    }\n",
       "</style>\n",
       "<table border=\"1\" class=\"dataframe\">\n",
       "  <thead>\n",
       "    <tr style=\"text-align: right;\">\n",
       "      <th></th>\n",
       "      <th>candidate</th>\n",
       "      <th>Statewide Delegates</th>\n",
       "    </tr>\n",
       "  </thead>\n",
       "  <tbody>\n",
       "    <tr>\n",
       "      <th>0</th>\n",
       "      <td>buttigieg</td>\n",
       "      <td>0.441581</td>\n",
       "    </tr>\n",
       "    <tr>\n",
       "      <th>1</th>\n",
       "      <td>warren</td>\n",
       "      <td>0.000000</td>\n",
       "    </tr>\n",
       "    <tr>\n",
       "      <th>2</th>\n",
       "      <td>klobuchar</td>\n",
       "      <td>0.670534</td>\n",
       "    </tr>\n",
       "    <tr>\n",
       "      <th>3</th>\n",
       "      <td>biden</td>\n",
       "      <td>0.000000</td>\n",
       "    </tr>\n",
       "    <tr>\n",
       "      <th>4</th>\n",
       "      <td>yang</td>\n",
       "      <td>0.000000</td>\n",
       "    </tr>\n",
       "    <tr>\n",
       "      <th>5</th>\n",
       "      <td>sanders</td>\n",
       "      <td>0.272465</td>\n",
       "    </tr>\n",
       "    <tr>\n",
       "      <th>6</th>\n",
       "      <td>steyer</td>\n",
       "      <td>0.000000</td>\n",
       "    </tr>\n",
       "    <tr>\n",
       "      <th>7</th>\n",
       "      <td>gabbard</td>\n",
       "      <td>0.000000</td>\n",
       "    </tr>\n",
       "    <tr>\n",
       "      <th>8</th>\n",
       "      <td>other</td>\n",
       "      <td>0.000000</td>\n",
       "    </tr>\n",
       "    <tr>\n",
       "      <th>9</th>\n",
       "      <td>uncommitted</td>\n",
       "      <td>0.823419</td>\n",
       "    </tr>\n",
       "  </tbody>\n",
       "</table>\n",
       "</div>"
      ],
      "text/plain": [
       "     candidate  Statewide Delegates\n",
       "0    buttigieg             0.441581\n",
       "1       warren             0.000000\n",
       "2    klobuchar             0.670534\n",
       "3        biden             0.000000\n",
       "4         yang             0.000000\n",
       "5      sanders             0.272465\n",
       "6       steyer             0.000000\n",
       "7      gabbard             0.000000\n",
       "8        other             0.000000\n",
       "9  uncommitted             0.823419"
      ]
     },
     "execution_count": 22,
     "metadata": {},
     "output_type": "execute_result"
    }
   ],
   "source": [
    "agg"
   ]
  },
  {
   "cell_type": "code",
   "execution_count": 14,
   "metadata": {},
   "outputs": [
    {
     "data": {
      "text/html": [
       "<div>\n",
       "<style scoped>\n",
       "    .dataframe tbody tr th:only-of-type {\n",
       "        vertical-align: middle;\n",
       "    }\n",
       "\n",
       "    .dataframe tbody tr th {\n",
       "        vertical-align: top;\n",
       "    }\n",
       "\n",
       "    .dataframe thead th {\n",
       "        text-align: right;\n",
       "    }\n",
       "</style>\n",
       "<table border=\"1\" class=\"dataframe\">\n",
       "  <thead>\n",
       "    <tr style=\"text-align: right;\">\n",
       "      <th></th>\n",
       "      <th>index</th>\n",
       "      <th>0</th>\n",
       "    </tr>\n",
       "  </thead>\n",
       "  <tbody>\n",
       "    <tr>\n",
       "      <th>0</th>\n",
       "      <td>buttigieg_sde</td>\n",
       "      <td>0.441581</td>\n",
       "    </tr>\n",
       "    <tr>\n",
       "      <th>1</th>\n",
       "      <td>warren_sde</td>\n",
       "      <td>0.000000</td>\n",
       "    </tr>\n",
       "    <tr>\n",
       "      <th>2</th>\n",
       "      <td>klobuchar_sde</td>\n",
       "      <td>0.670534</td>\n",
       "    </tr>\n",
       "    <tr>\n",
       "      <th>3</th>\n",
       "      <td>biden_sde</td>\n",
       "      <td>0.000000</td>\n",
       "    </tr>\n",
       "    <tr>\n",
       "      <th>4</th>\n",
       "      <td>yang_sde</td>\n",
       "      <td>0.000000</td>\n",
       "    </tr>\n",
       "    <tr>\n",
       "      <th>5</th>\n",
       "      <td>sanders_sde</td>\n",
       "      <td>0.272465</td>\n",
       "    </tr>\n",
       "    <tr>\n",
       "      <th>6</th>\n",
       "      <td>steyer_sde</td>\n",
       "      <td>0.000000</td>\n",
       "    </tr>\n",
       "    <tr>\n",
       "      <th>7</th>\n",
       "      <td>gabbard_sde</td>\n",
       "      <td>0.000000</td>\n",
       "    </tr>\n",
       "    <tr>\n",
       "      <th>8</th>\n",
       "      <td>other_sde</td>\n",
       "      <td>0.000000</td>\n",
       "    </tr>\n",
       "    <tr>\n",
       "      <th>9</th>\n",
       "      <td>uncommitted_sde</td>\n",
       "      <td>0.823419</td>\n",
       "    </tr>\n",
       "  </tbody>\n",
       "</table>\n",
       "</div>"
      ],
      "text/plain": [
       "             index         0\n",
       "0    buttigieg_sde  0.441581\n",
       "1       warren_sde  0.000000\n",
       "2    klobuchar_sde  0.670534\n",
       "3        biden_sde  0.000000\n",
       "4         yang_sde  0.000000\n",
       "5      sanders_sde  0.272465\n",
       "6       steyer_sde  0.000000\n",
       "7      gabbard_sde  0.000000\n",
       "8        other_sde  0.000000\n",
       "9  uncommitted_sde  0.823419"
      ]
     },
     "execution_count": 14,
     "metadata": {},
     "output_type": "execute_result"
    }
   ],
   "source": []
  }
 ],
 "metadata": {
  "kernelspec": {
   "display_name": "iowa",
   "language": "python",
   "name": "iowa"
  },
  "language_info": {
   "codemirror_mode": {
    "name": "ipython",
    "version": 3
   },
   "file_extension": ".py",
   "mimetype": "text/x-python",
   "name": "python",
   "nbconvert_exporter": "python",
   "pygments_lexer": "ipython3",
   "version": "3.6.8"
  }
 },
 "nbformat": 4,
 "nbformat_minor": 2
}

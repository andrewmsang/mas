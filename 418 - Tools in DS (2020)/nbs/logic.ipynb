{
 "cells": [
  {
   "cell_type": "markdown",
   "metadata": {},
   "source": [
    "## Import Libraries"
   ]
  },
  {
   "cell_type": "code",
   "execution_count": 2,
   "metadata": {},
   "outputs": [],
   "source": [
    "import pandas as pd\n",
    "import numpy as np\n",
    "import sqlite3\n",
    "\n",
    "pd.options.display.max_rows = 999\n",
    "pd.options.display.max_columns = 100"
   ]
  },
  {
   "cell_type": "markdown",
   "metadata": {},
   "source": [
    "## Import Data"
   ]
  },
  {
   "cell_type": "code",
   "execution_count": 3,
   "metadata": {},
   "outputs": [
    {
     "data": {
      "text/html": [
       "<div>\n",
       "<style scoped>\n",
       "    .dataframe tbody tr th:only-of-type {\n",
       "        vertical-align: middle;\n",
       "    }\n",
       "\n",
       "    .dataframe tbody tr th {\n",
       "        vertical-align: top;\n",
       "    }\n",
       "\n",
       "    .dataframe thead th {\n",
       "        text-align: right;\n",
       "    }\n",
       "</style>\n",
       "<table border=\"1\" class=\"dataframe\">\n",
       "  <thead>\n",
       "    <tr style=\"text-align: right;\">\n",
       "      <th></th>\n",
       "      <th>voter_id</th>\n",
       "      <th>county</th>\n",
       "      <th>precinct</th>\n",
       "      <th>candidate</th>\n",
       "    </tr>\n",
       "  </thead>\n",
       "  <tbody>\n",
       "    <tr>\n",
       "      <th>0</th>\n",
       "      <td>0</td>\n",
       "      <td>Palo Alto</td>\n",
       "      <td>WB</td>\n",
       "      <td>Buttigieg</td>\n",
       "    </tr>\n",
       "    <tr>\n",
       "      <th>1</th>\n",
       "      <td>1</td>\n",
       "      <td>Lucas</td>\n",
       "      <td>POM</td>\n",
       "      <td>Buttigieg</td>\n",
       "    </tr>\n",
       "    <tr>\n",
       "      <th>2</th>\n",
       "      <td>2</td>\n",
       "      <td>Bremer</td>\n",
       "      <td>TR</td>\n",
       "      <td>Warren</td>\n",
       "    </tr>\n",
       "    <tr>\n",
       "      <th>3</th>\n",
       "      <td>3</td>\n",
       "      <td>Cerro Gordo</td>\n",
       "      <td>CL</td>\n",
       "      <td>Warren</td>\n",
       "    </tr>\n",
       "    <tr>\n",
       "      <th>4</th>\n",
       "      <td>4</td>\n",
       "      <td>Des Moines</td>\n",
       "      <td>DM</td>\n",
       "      <td>Klobuchar</td>\n",
       "    </tr>\n",
       "  </tbody>\n",
       "</table>\n",
       "</div>"
      ],
      "text/plain": [
       "   voter_id       county precinct  candidate\n",
       "0         0    Palo Alto       WB  Buttigieg\n",
       "1         1        Lucas      POM  Buttigieg\n",
       "2         2       Bremer       TR     Warren\n",
       "3         3  Cerro Gordo       CL     Warren\n",
       "4         4   Des Moines       DM  Klobuchar"
      ]
     },
     "execution_count": 3,
     "metadata": {},
     "output_type": "execute_result"
    }
   ],
   "source": [
    "con = sqlite3.connect(\"db/votes.db\")\n",
    "\n",
    "dfmf = pd.read_sql_query(\"SELECT * FROM votes\", con)\n",
    "dfmf.head()"
   ]
  },
  {
   "cell_type": "code",
   "execution_count": 5,
   "metadata": {},
   "outputs": [
    {
     "data": {
      "text/plain": [
       "array(['Buttigieg', 'Warren', 'Klobuchar', 'Biden', 'Yang', 'Sanders',\n",
       "       'Steyer', 'Uncommitted', 'Other', 'Gabbard'], dtype=object)"
      ]
     },
     "execution_count": 5,
     "metadata": {},
     "output_type": "execute_result"
    }
   ],
   "source": [
    "dfmf.candidate.unique()"
   ]
  },
  {
   "cell_type": "code",
   "execution_count": 6,
   "metadata": {},
   "outputs": [
    {
     "data": {
      "text/html": [
       "<div>\n",
       "<style scoped>\n",
       "    .dataframe tbody tr th:only-of-type {\n",
       "        vertical-align: middle;\n",
       "    }\n",
       "\n",
       "    .dataframe tbody tr th {\n",
       "        vertical-align: top;\n",
       "    }\n",
       "\n",
       "    .dataframe thead th {\n",
       "        text-align: right;\n",
       "    }\n",
       "</style>\n",
       "<table border=\"1\" class=\"dataframe\">\n",
       "  <thead>\n",
       "    <tr style=\"text-align: right;\">\n",
       "      <th></th>\n",
       "      <th>county</th>\n",
       "      <th>precinct</th>\n",
       "      <th>sde</th>\n",
       "    </tr>\n",
       "  </thead>\n",
       "  <tbody>\n",
       "    <tr>\n",
       "      <th>0</th>\n",
       "      <td>Lee</td>\n",
       "      <td>FM4B</td>\n",
       "      <td>0.000</td>\n",
       "    </tr>\n",
       "    <tr>\n",
       "      <th>1</th>\n",
       "      <td>Lee</td>\n",
       "      <td>KE2B</td>\n",
       "      <td>0.000</td>\n",
       "    </tr>\n",
       "    <tr>\n",
       "      <th>2</th>\n",
       "      <td>Lee</td>\n",
       "      <td>HR</td>\n",
       "      <td>0.000</td>\n",
       "    </tr>\n",
       "    <tr>\n",
       "      <th>3</th>\n",
       "      <td>Appanoose</td>\n",
       "      <td>CW</td>\n",
       "      <td>0.160</td>\n",
       "    </tr>\n",
       "    <tr>\n",
       "      <th>4</th>\n",
       "      <td>Black Hawk</td>\n",
       "      <td>S000</td>\n",
       "      <td>0.404</td>\n",
       "    </tr>\n",
       "  </tbody>\n",
       "</table>\n",
       "</div>"
      ],
      "text/plain": [
       "       county precinct    sde\n",
       "0         Lee     FM4B  0.000\n",
       "1         Lee     KE2B  0.000\n",
       "2         Lee       HR  0.000\n",
       "3   Appanoose       CW  0.160\n",
       "4  Black Hawk     S000  0.404"
      ]
     },
     "execution_count": 6,
     "metadata": {},
     "output_type": "execute_result"
    }
   ],
   "source": [
    "cd_map = pd.read_csv('data/Delegate Apportionment_Page 1_Pivot table.csv')\n",
    "cd_map.columns = ['county','precinct_short','delegates_cc','sde']\n",
    "cd_map.rename(columns={'precinct_short':'precinct'}, inplace=True)\n",
    "del cd_map['delegates_cc']\n",
    "cd_map.head()"
   ]
  },
  {
   "cell_type": "code",
   "execution_count": 7,
   "metadata": {},
   "outputs": [],
   "source": [
    "cd_map.to_csv('data/delegate_apportionment_clean.csv')"
   ]
  },
  {
   "cell_type": "code",
   "execution_count": null,
   "metadata": {},
   "outputs": [],
   "source": [
    "sqlite_insert_query = \"\"\"INSERT INTO movies\n",
    "                  (movie_title, release_year, plot_description, genre, average_rating, number_of_votes) \n",
    "                  VALUES (?, ?, ?, ?, ?, ?);\"\"\"\n",
    "recordList = df.get_values()\n",
    "cursor.executemany(sqlite_insert_query, recordList)\n",
    "conn.commit()"
   ]
  },
  {
   "cell_type": "markdown",
   "metadata": {},
   "source": [
    "## What are the first results?"
   ]
  },
  {
   "cell_type": "code",
   "execution_count": 50,
   "metadata": {},
   "outputs": [],
   "source": [
    "dt = dfmf.copy()\n",
    "dt = dt.merge(cd_map, how='left', on=['county','precinct'])"
   ]
  },
  {
   "cell_type": "code",
   "execution_count": 80,
   "metadata": {},
   "outputs": [],
   "source": [
    "def compute_candidate_data(dat):\n",
    "    dat.loc[:,'cand_vote_sum'] = (dat.groupby(['county','precinct','candidate'])['voter_id']\n",
    "                                     .transform(lambda x: x.nunique()))\n",
    "    dat.loc[:,'cand_vote_ttl'] = dat.groupby(['county','precinct'])['voter_id'].transform(lambda x: x.nunique())\n",
    "    dat.loc[:,'cand_vote_share'] = dat['cand_vote_sum'] / dat['cand_vote_ttl']\n",
    "    dat.loc[:,'viable_candidate'] = np.where(dat['cand_vote_share'] >= 0.15, 1, 0)\n",
    "    return dat"
   ]
  },
  {
   "cell_type": "code",
   "execution_count": 81,
   "metadata": {},
   "outputs": [],
   "source": [
    "dt = compute_candidate_data(dt)"
   ]
  },
  {
   "cell_type": "markdown",
   "metadata": {},
   "source": [
    "## Who has to re-vote?"
   ]
  },
  {
   "cell_type": "code",
   "execution_count": 83,
   "metadata": {},
   "outputs": [
    {
     "data": {
      "text/html": [
       "<div>\n",
       "<style scoped>\n",
       "    .dataframe tbody tr th:only-of-type {\n",
       "        vertical-align: middle;\n",
       "    }\n",
       "\n",
       "    .dataframe tbody tr th {\n",
       "        vertical-align: top;\n",
       "    }\n",
       "\n",
       "    .dataframe thead th {\n",
       "        text-align: right;\n",
       "    }\n",
       "</style>\n",
       "<table border=\"1\" class=\"dataframe\">\n",
       "  <thead>\n",
       "    <tr style=\"text-align: right;\">\n",
       "      <th></th>\n",
       "      <th>voter_id</th>\n",
       "      <th>county</th>\n",
       "      <th>precinct</th>\n",
       "      <th>candidate</th>\n",
       "      <th>delegates_cc</th>\n",
       "      <th>sde</th>\n",
       "      <th>cand_vote_sum</th>\n",
       "      <th>cand_vote_ttl</th>\n",
       "      <th>cand_vote_share</th>\n",
       "      <th>viable_candidate</th>\n",
       "    </tr>\n",
       "  </thead>\n",
       "  <tbody>\n",
       "    <tr>\n",
       "      <th>4</th>\n",
       "      <td>4</td>\n",
       "      <td>Des Moines</td>\n",
       "      <td>DM</td>\n",
       "      <td>Klobuchar</td>\n",
       "      <td>3</td>\n",
       "      <td>1.080000</td>\n",
       "      <td>16</td>\n",
       "      <td>110</td>\n",
       "      <td>0.145455</td>\n",
       "      <td>0</td>\n",
       "    </tr>\n",
       "    <tr>\n",
       "      <th>5</th>\n",
       "      <td>5</td>\n",
       "      <td>Dallas</td>\n",
       "      <td>WM225</td>\n",
       "      <td>Biden</td>\n",
       "      <td>8</td>\n",
       "      <td>3.314286</td>\n",
       "      <td>12</td>\n",
       "      <td>115</td>\n",
       "      <td>0.104348</td>\n",
       "      <td>0</td>\n",
       "    </tr>\n",
       "    <tr>\n",
       "      <th>6</th>\n",
       "      <td>6</td>\n",
       "      <td>Van Buren</td>\n",
       "      <td>KE</td>\n",
       "      <td>Yang</td>\n",
       "      <td>10</td>\n",
       "      <td>1.000000</td>\n",
       "      <td>4</td>\n",
       "      <td>125</td>\n",
       "      <td>0.032000</td>\n",
       "      <td>0</td>\n",
       "    </tr>\n",
       "    <tr>\n",
       "      <th>8</th>\n",
       "      <td>8</td>\n",
       "      <td>Story</td>\n",
       "      <td>4</td>\n",
       "      <td>Warren</td>\n",
       "      <td>8</td>\n",
       "      <td>3.320000</td>\n",
       "      <td>16</td>\n",
       "      <td>115</td>\n",
       "      <td>0.139130</td>\n",
       "      <td>0</td>\n",
       "    </tr>\n",
       "    <tr>\n",
       "      <th>12</th>\n",
       "      <td>12</td>\n",
       "      <td>Scott</td>\n",
       "      <td>MC</td>\n",
       "      <td>Biden</td>\n",
       "      <td>1</td>\n",
       "      <td>0.413333</td>\n",
       "      <td>10</td>\n",
       "      <td>106</td>\n",
       "      <td>0.094340</td>\n",
       "      <td>0</td>\n",
       "    </tr>\n",
       "  </tbody>\n",
       "</table>\n",
       "</div>"
      ],
      "text/plain": [
       "    voter_id      county precinct  candidate  delegates_cc       sde  \\\n",
       "4          4  Des Moines       DM  Klobuchar             3  1.080000   \n",
       "5          5      Dallas    WM225      Biden             8  3.314286   \n",
       "6          6   Van Buren       KE       Yang            10  1.000000   \n",
       "8          8       Story        4     Warren             8  3.320000   \n",
       "12        12       Scott       MC      Biden             1  0.413333   \n",
       "\n",
       "    cand_vote_sum  cand_vote_ttl  cand_vote_share  viable_candidate  \n",
       "4              16            110         0.145455                 0  \n",
       "5              12            115         0.104348                 0  \n",
       "6               4            125         0.032000                 0  \n",
       "8              16            115         0.139130                 0  \n",
       "12             10            106         0.094340                 0  "
      ]
     },
     "execution_count": 83,
     "metadata": {},
     "output_type": "execute_result"
    }
   ],
   "source": [
    "dt.loc[dt['viable_candidate']==0,:].head()"
   ]
  },
  {
   "cell_type": "markdown",
   "metadata": {},
   "source": [
    "## Pretend that the people re-voted for only viable?"
   ]
  },
  {
   "cell_type": "code",
   "execution_count": 127,
   "metadata": {},
   "outputs": [],
   "source": [
    "fnl = dt.copy()\n",
    "fnl.loc[:,'orig_candidate'] = fnl.loc[:,'candidate']\n",
    "fnl.loc[:,'candidate'] = np.where(fnl['viable_candidate']==1, fnl['candidate'], None)"
   ]
  },
  {
   "cell_type": "code",
   "execution_count": 128,
   "metadata": {},
   "outputs": [],
   "source": [
    "vc = (fnl.loc[(fnl['viable_candidate']==1),['county','precinct','candidate']]\n",
    "         .drop_duplicates()\n",
    "         .groupby(['county','precinct'])['candidate']\n",
    "         .apply(lambda x: list(x))\n",
    "         .reset_index())\n",
    "vc.rename(columns={'candidate':'viable_candidate_list'}, inplace=True)"
   ]
  },
  {
   "cell_type": "code",
   "execution_count": 129,
   "metadata": {},
   "outputs": [],
   "source": [
    "fnl_agg = fnl.merge(vc, how='left', on=['county','precinct'])\n",
    "fnl_agg.loc[:,'potential_candidate'] = (fnl_agg['viable_candidate_list'].map(\n",
    "                                            lambda s: np.random.choice(\n",
    "                                                str(s).translate(str.maketrans(\"\",\"\",\"[]' \")).split(','))))\n",
    "fnl_agg.loc[:,'candidate'] = np.where(fnl_agg['viable_candidate']==1,\n",
    "                                      fnl_agg['candidate'],\n",
    "                                      fnl_agg['potential_candidate'])"
   ]
  },
  {
   "cell_type": "code",
   "execution_count": 130,
   "metadata": {},
   "outputs": [
    {
     "data": {
      "text/html": [
       "<div>\n",
       "<style scoped>\n",
       "    .dataframe tbody tr th:only-of-type {\n",
       "        vertical-align: middle;\n",
       "    }\n",
       "\n",
       "    .dataframe tbody tr th {\n",
       "        vertical-align: top;\n",
       "    }\n",
       "\n",
       "    .dataframe thead th {\n",
       "        text-align: right;\n",
       "    }\n",
       "</style>\n",
       "<table border=\"1\" class=\"dataframe\">\n",
       "  <thead>\n",
       "    <tr style=\"text-align: right;\">\n",
       "      <th></th>\n",
       "      <th>voter_id</th>\n",
       "      <th>county</th>\n",
       "      <th>precinct</th>\n",
       "      <th>candidate</th>\n",
       "      <th>delegates_cc</th>\n",
       "      <th>sde</th>\n",
       "      <th>cand_vote_sum</th>\n",
       "      <th>cand_vote_ttl</th>\n",
       "      <th>cand_vote_share</th>\n",
       "      <th>viable_candidate</th>\n",
       "      <th>orig_candidate</th>\n",
       "      <th>viable_candidate_list</th>\n",
       "      <th>potential_candidate</th>\n",
       "    </tr>\n",
       "  </thead>\n",
       "  <tbody>\n",
       "    <tr>\n",
       "      <th>0</th>\n",
       "      <td>0</td>\n",
       "      <td>Palo Alto</td>\n",
       "      <td>WB</td>\n",
       "      <td>Buttigieg</td>\n",
       "      <td>8</td>\n",
       "      <td>0.666667</td>\n",
       "      <td>44</td>\n",
       "      <td>106</td>\n",
       "      <td>0.415094</td>\n",
       "      <td>1</td>\n",
       "      <td>Buttigieg</td>\n",
       "      <td>[Buttigieg, Sanders, Warren]</td>\n",
       "      <td>Buttigieg</td>\n",
       "    </tr>\n",
       "    <tr>\n",
       "      <th>1</th>\n",
       "      <td>1</td>\n",
       "      <td>Lucas</td>\n",
       "      <td>POM</td>\n",
       "      <td>Buttigieg</td>\n",
       "      <td>5</td>\n",
       "      <td>0.363636</td>\n",
       "      <td>47</td>\n",
       "      <td>150</td>\n",
       "      <td>0.313333</td>\n",
       "      <td>1</td>\n",
       "      <td>Buttigieg</td>\n",
       "      <td>[Buttigieg, Warren, Sanders, Biden]</td>\n",
       "      <td>Sanders</td>\n",
       "    </tr>\n",
       "    <tr>\n",
       "      <th>2</th>\n",
       "      <td>2</td>\n",
       "      <td>Bremer</td>\n",
       "      <td>TR</td>\n",
       "      <td>Warren</td>\n",
       "      <td>5</td>\n",
       "      <td>1.133333</td>\n",
       "      <td>36</td>\n",
       "      <td>119</td>\n",
       "      <td>0.302521</td>\n",
       "      <td>1</td>\n",
       "      <td>Warren</td>\n",
       "      <td>[Warren, Sanders, Buttigieg]</td>\n",
       "      <td>Warren</td>\n",
       "    </tr>\n",
       "    <tr>\n",
       "      <th>3</th>\n",
       "      <td>3</td>\n",
       "      <td>Cerro Gordo</td>\n",
       "      <td>CL</td>\n",
       "      <td>Warren</td>\n",
       "      <td>7</td>\n",
       "      <td>1.240000</td>\n",
       "      <td>43</td>\n",
       "      <td>134</td>\n",
       "      <td>0.320896</td>\n",
       "      <td>1</td>\n",
       "      <td>Warren</td>\n",
       "      <td>[Warren, Buttigieg, Sanders]</td>\n",
       "      <td>Sanders</td>\n",
       "    </tr>\n",
       "    <tr>\n",
       "      <th>4</th>\n",
       "      <td>4</td>\n",
       "      <td>Des Moines</td>\n",
       "      <td>DM</td>\n",
       "      <td>Buttigieg</td>\n",
       "      <td>3</td>\n",
       "      <td>1.080000</td>\n",
       "      <td>56</td>\n",
       "      <td>110</td>\n",
       "      <td>0.509091</td>\n",
       "      <td>1</td>\n",
       "      <td>Klobuchar</td>\n",
       "      <td>[Sanders, Buttigieg]</td>\n",
       "      <td>Buttigieg</td>\n",
       "    </tr>\n",
       "  </tbody>\n",
       "</table>\n",
       "</div>"
      ],
      "text/plain": [
       "   voter_id       county precinct  candidate  delegates_cc       sde  \\\n",
       "0         0    Palo Alto       WB  Buttigieg             8  0.666667   \n",
       "1         1        Lucas      POM  Buttigieg             5  0.363636   \n",
       "2         2       Bremer       TR     Warren             5  1.133333   \n",
       "3         3  Cerro Gordo       CL     Warren             7  1.240000   \n",
       "4         4   Des Moines       DM  Buttigieg             3  1.080000   \n",
       "\n",
       "   cand_vote_sum  cand_vote_ttl  cand_vote_share  viable_candidate  \\\n",
       "0             44            106         0.415094                 1   \n",
       "1             47            150         0.313333                 1   \n",
       "2             36            119         0.302521                 1   \n",
       "3             43            134         0.320896                 1   \n",
       "4             56            110         0.509091                 1   \n",
       "\n",
       "  orig_candidate                viable_candidate_list potential_candidate  \n",
       "0      Buttigieg         [Buttigieg, Sanders, Warren]           Buttigieg  \n",
       "1      Buttigieg  [Buttigieg, Warren, Sanders, Biden]             Sanders  \n",
       "2         Warren         [Warren, Sanders, Buttigieg]              Warren  \n",
       "3         Warren         [Warren, Buttigieg, Sanders]             Sanders  \n",
       "4      Klobuchar                 [Sanders, Buttigieg]           Buttigieg  "
      ]
     },
     "execution_count": 130,
     "metadata": {},
     "output_type": "execute_result"
    }
   ],
   "source": [
    "fnl_agg = compute_candidate_data(fnl_agg)\n",
    "fnl_agg.head()"
   ]
  },
  {
   "cell_type": "code",
   "execution_count": 151,
   "metadata": {},
   "outputs": [],
   "source": [
    "res = fnl_agg[['county','precinct','delegates_cc','sde','candidate','cand_vote_share']].drop_duplicates()\n",
    "res.loc[:,'cand_sde'] = res['sde'] * res['cand_vote_share']\n",
    "res = res.groupby('candidate')['cand_sde'].sum().reset_index()\n",
    "res.loc[:,'cand_share_sde'] = res['cand_sde'] / res['cand_sde'].sum()"
   ]
  },
  {
   "cell_type": "code",
   "execution_count": 152,
   "metadata": {},
   "outputs": [
    {
     "data": {
      "text/html": [
       "<div>\n",
       "<style scoped>\n",
       "    .dataframe tbody tr th:only-of-type {\n",
       "        vertical-align: middle;\n",
       "    }\n",
       "\n",
       "    .dataframe tbody tr th {\n",
       "        vertical-align: top;\n",
       "    }\n",
       "\n",
       "    .dataframe thead th {\n",
       "        text-align: right;\n",
       "    }\n",
       "</style>\n",
       "<table border=\"1\" class=\"dataframe\">\n",
       "  <thead>\n",
       "    <tr style=\"text-align: right;\">\n",
       "      <th></th>\n",
       "      <th>candidate</th>\n",
       "      <th>cand_sde</th>\n",
       "      <th>cand_share_sde</th>\n",
       "    </tr>\n",
       "  </thead>\n",
       "  <tbody>\n",
       "    <tr>\n",
       "      <th>0</th>\n",
       "      <td>Biden</td>\n",
       "      <td>168.013259</td>\n",
       "      <td>0.079741</td>\n",
       "    </tr>\n",
       "    <tr>\n",
       "      <th>1</th>\n",
       "      <td>Buttigieg</td>\n",
       "      <td>653.028006</td>\n",
       "      <td>0.309933</td>\n",
       "    </tr>\n",
       "    <tr>\n",
       "      <th>2</th>\n",
       "      <td>Klobuchar</td>\n",
       "      <td>177.291319</td>\n",
       "      <td>0.084144</td>\n",
       "    </tr>\n",
       "    <tr>\n",
       "      <th>3</th>\n",
       "      <td>Sanders</td>\n",
       "      <td>723.953440</td>\n",
       "      <td>0.343594</td>\n",
       "    </tr>\n",
       "    <tr>\n",
       "      <th>4</th>\n",
       "      <td>Warren</td>\n",
       "      <td>384.713976</td>\n",
       "      <td>0.182589</td>\n",
       "    </tr>\n",
       "  </tbody>\n",
       "</table>\n",
       "</div>"
      ],
      "text/plain": [
       "   candidate    cand_sde  cand_share_sde\n",
       "0      Biden  168.013259        0.079741\n",
       "1  Buttigieg  653.028006        0.309933\n",
       "2  Klobuchar  177.291319        0.084144\n",
       "3    Sanders  723.953440        0.343594\n",
       "4     Warren  384.713976        0.182589"
      ]
     },
     "execution_count": 152,
     "metadata": {},
     "output_type": "execute_result"
    }
   ],
   "source": [
    "res.head()"
   ]
  }
 ],
 "metadata": {
  "kernelspec": {
   "display_name": "py36",
   "language": "python",
   "name": "py36"
  },
  "language_info": {
   "codemirror_mode": {
    "name": "ipython",
    "version": 3
   },
   "file_extension": ".py",
   "mimetype": "text/x-python",
   "name": "python",
   "nbconvert_exporter": "python",
   "pygments_lexer": "ipython3",
   "version": "3.6.8"
  }
 },
 "nbformat": 4,
 "nbformat_minor": 2
}

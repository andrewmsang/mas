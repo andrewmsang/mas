{
 "cells": [
  {
   "cell_type": "markdown",
   "metadata": {},
   "source": [
    "## Final Project \n",
    "\n",
    "### UCLA 405 - Andrew Sang 505256314\n",
    "\n",
    "This is a notebook that I will be using to analyze Jeopardy data!"
   ]
  },
  {
   "cell_type": "code",
   "execution_count": 1,
   "metadata": {},
   "outputs": [],
   "source": [
    "# scraping\n",
    "import requests\n",
    "from bs4 import BeautifulSoup\n",
    "\n",
    "# times\n",
    "import time\n",
    "import datetime\n",
    "\n",
    "# data\n",
    "from collections import defaultdict\n",
    "import json\n",
    "import pandas as pd\n",
    "from pandas.io.json import json_normalize #package for flattening json in pandas df"
   ]
  },
  {
   "cell_type": "code",
   "execution_count": 2,
   "metadata": {},
   "outputs": [],
   "source": [
    "def get_bs4(url):\n",
    "    page = requests.get(url)\n",
    "    return BeautifulSoup(page.content, 'html.parser')\n",
    "\n",
    "def parse_jeopardy():\n",
    "    all_seasons = get_bs4(\"http://www.j-archive.com/listseasons.php\")\n",
    "    all_games = []\n",
    "    seasons_list = all_seasons.find('div',id='content').find_all('a',href=True)[0:-1]\n",
    "\n",
    "    for s, season in enumerate(seasons_list):\n",
    "        try:\n",
    "            season_start = datetime.datetime.now()\n",
    "            ts = datetime.datetime.now().strftime(\"%Y-%m-%d %H:%M:%S\") \n",
    "            print('season {0} of {1}, @ {2}'.format(s+1, len(seasons_list), ts))\n",
    "\n",
    "            season_url = 'http://www.j-archive.com/'+season['href']\n",
    "            seas_num = season['href'].split('=')[1]\n",
    "            episodes = (get_bs4(season_url).find('div', id='content')\n",
    "                                           .find_all('tr'))\n",
    "\n",
    "            for e, episode in enumerate(episodes):\n",
    "                try: \n",
    "                    # print('season {0} episode {1} of {2}'.format(s+1, e+1, len(episodes)))\n",
    "                    game_id = episode.find('td').find('a',href=True)['href'].split('game_id=')[1]\n",
    "                    score_url = 'http://www.j-archive.com/showscores.php?game_id='+game_id\n",
    "                    game_score = get_bs4(score_url)\n",
    "\n",
    "                    episode_dict = {}\n",
    "                    episode_dict['season'] = seas_num\n",
    "                    episode_dict['game_id'] = game_id\n",
    "                    episode_dict['scores'] = list()\n",
    "                    scores_dict = dict()\n",
    "\n",
    "                    # contestant data                    \n",
    "                    contestants = (game_score.find('table',id='contestants_table')\n",
    "                                             .find_all('td')[1]\n",
    "                                             .find_all('a',href=True))\n",
    "                    for c, contestant in enumerate(contestants):\n",
    "                        episode_dict['contestant_{0}_name'.format(c)] = contestant.text\n",
    "                        episode_dict['contestant_{0}_id'.format(c)] = contestant['href'].split('?player_id=')[1]\n",
    "                        episode_dict['contestant_{0}_fname'.format(c)] = contestant.text.split(' ')[0]\n",
    "\n",
    "                    # player data\n",
    "                    players = game_score.find('table',class_=\"scores_table\").find('tr').find_all('td',class_=True)\n",
    "                    for p, player in enumerate(players):\n",
    "                        episode_dict['player_{0}'.format(p)] = player.text\n",
    "\n",
    "                    # score data\n",
    "                    rounds = ['jeopardy_round','double_jeopardy_round','final_jeopardy_round']\n",
    "                    for r, rnd in enumerate(rounds): # comment out\n",
    "                        questions = game_score.find('div', id=rnd).find('table').find_all('tr')[1:] # comment out\n",
    "                        for q, quest in enumerate(questions):\n",
    "                            if rnd == 'final_jeopardy_round':\n",
    "                                qnum = 0\n",
    "                                qbody = questions[0].find_all('td')\n",
    "                            else:\n",
    "                                qnum = quest.find_all('td')[0].text\n",
    "                                qbody = quest.find_all('td')[1:4]\n",
    "                            for sc, scores in enumerate(qbody):\n",
    "                                score = scores.text.replace('$','').replace(',','')\n",
    "                                scores_dict['rnd{0}_qnum{1}_player{2}'.format(r, qnum, sc)] = score\n",
    "\n",
    "                    # append\n",
    "                    episode_dict['scores'].append(scores_dict)\n",
    "                    all_games.append(episode_dict)\n",
    "                except:\n",
    "                    print('ep error season {0} game {1}, round {2}, url {3}'.format(seas_num,\n",
    "                                                                                    game_id,\n",
    "                                                                                    rnd,\n",
    "                                                                                    score_url))\n",
    "        except:\n",
    "            print('seas error season {0} fail'.format(seas_num))\n",
    "            \n",
    "    ts = datetime.datetime.now().strftime(\"%Y%m%d%H%M%S\")\n",
    "    with open('data_generated_{0}.json'.format(ts), 'w+') as outfile:  \n",
    "        json.dump(all_games, outfile)"
   ]
  },
  {
   "cell_type": "code",
   "execution_count": 14,
   "metadata": {},
   "outputs": [],
   "source": [
    "# https://www.kaggle.com/jboysen/quick-tutorial-flatten-nested-json-in-pandas\n",
    "# https://pandas.pydata.org/pandas-docs/stable/reference/api/pandas.melt.html"
   ]
  },
  {
   "cell_type": "code",
   "execution_count": 15,
   "metadata": {},
   "outputs": [],
   "source": [
    "with open(\"data_generated_{0}.json\".format(ts)) as json_file:\n",
    "    data = json.load(json_file)"
   ]
  },
  {
   "cell_type": "code",
   "execution_count": 16,
   "metadata": {},
   "outputs": [],
   "source": [
    "df = pd.melt(json_normalize(data,\n",
    "                            record_path=['scores'], \n",
    "                            meta=['game_id', 'season']),\n",
    "             id_vars=['game_id','season'],\n",
    "             value_name='score')"
   ]
  },
  {
   "cell_type": "code",
   "execution_count": 17,
   "metadata": {},
   "outputs": [],
   "source": [
    "df.loc[:,'rnd'] = pd.to_numeric(df['variable'].map(lambda s: s.split('_')[0].split('rnd')[1]))\n",
    "df.loc[:,'question'] = pd.to_numeric(df['variable'].map(lambda s: s.split('_')[1].split('qnum')[1]))\n",
    "df.loc[:,'player'] = df['variable'].map(lambda s: s.split('_')[2])\n",
    "\n",
    "# cleanup\n",
    "df = df.loc[pd.notnull(df['score']),:]\n",
    "df = df.loc[df['score'].str.contains('lock') == False,:]\n",
    "df.loc[:,'score'] = pd.to_numeric(df['score'])"
   ]
  },
  {
   "cell_type": "code",
   "execution_count": 18,
   "metadata": {},
   "outputs": [],
   "source": [
    "df.to_csv('output_generated_{0}.csv'.format(ts))"
   ]
  },
  {
   "cell_type": "code",
   "execution_count": 25,
   "metadata": {},
   "outputs": [],
   "source": [
    "pivot = pd.pivot_table(df, \n",
    "                       index=['season','game_id','rnd','question'],\n",
    "                       columns='player',\n",
    "                       values='score').reset_index()\n",
    "pivot.to_csv('pivot_generated_{0}.csv'.format(ts))"
   ]
  }
 ],
 "metadata": {
  "kernelspec": {
   "display_name": "Python 3",
   "language": "python",
   "name": "python3"
  },
  "language_info": {
   "codemirror_mode": {
    "name": "ipython",
    "version": 3
   },
   "file_extension": ".py",
   "mimetype": "text/x-python",
   "name": "python",
   "nbconvert_exporter": "python",
   "pygments_lexer": "ipython3",
   "version": "3.6.8"
  }
 },
 "nbformat": 4,
 "nbformat_minor": 2
}

{
 "cells": [
  {
   "cell_type": "code",
   "execution_count": 1,
   "metadata": {},
   "outputs": [],
   "source": [
    "import pandas as pd\n",
    "import sqlite3\n",
    "import numpy as np"
   ]
  },
  {
   "cell_type": "code",
   "execution_count": 8,
   "metadata": {},
   "outputs": [
    {
     "data": {
      "text/html": [
       "<div>\n",
       "<style scoped>\n",
       "    .dataframe tbody tr th:only-of-type {\n",
       "        vertical-align: middle;\n",
       "    }\n",
       "\n",
       "    .dataframe tbody tr th {\n",
       "        vertical-align: top;\n",
       "    }\n",
       "\n",
       "    .dataframe thead th {\n",
       "        text-align: right;\n",
       "    }\n",
       "</style>\n",
       "<table border=\"1\" class=\"dataframe\">\n",
       "  <thead>\n",
       "    <tr style=\"text-align: right;\">\n",
       "      <th></th>\n",
       "      <th>track_id</th>\n",
       "      <th>genre</th>\n",
       "      <th>has_musical_ftr</th>\n",
       "    </tr>\n",
       "  </thead>\n",
       "  <tbody>\n",
       "    <tr>\n",
       "      <th>0</th>\n",
       "      <td>TRAAAAK128F9318786</td>\n",
       "      <td>Metal_Alternative</td>\n",
       "      <td>1</td>\n",
       "    </tr>\n",
       "    <tr>\n",
       "      <th>1</th>\n",
       "      <td>TRAAAAV128F421A322</td>\n",
       "      <td>Punk</td>\n",
       "      <td>1</td>\n",
       "    </tr>\n",
       "    <tr>\n",
       "      <th>2</th>\n",
       "      <td>TRAAAAW128F429D538</td>\n",
       "      <td>Hip_Hop_Rap</td>\n",
       "      <td>1</td>\n",
       "    </tr>\n",
       "    <tr>\n",
       "      <th>3</th>\n",
       "      <td>TRAAACV128F423E09E</td>\n",
       "      <td>Rock_Neo_Psychedelia</td>\n",
       "      <td>1</td>\n",
       "    </tr>\n",
       "    <tr>\n",
       "      <th>4</th>\n",
       "      <td>TRAAAEF128F4273421</td>\n",
       "      <td>Pop_Indie</td>\n",
       "      <td>1</td>\n",
       "    </tr>\n",
       "  </tbody>\n",
       "</table>\n",
       "</div>"
      ],
      "text/plain": [
       "             track_id                 genre  has_musical_ftr\n",
       "0  TRAAAAK128F9318786     Metal_Alternative                1\n",
       "1  TRAAAAV128F421A322                  Punk                1\n",
       "2  TRAAAAW128F429D538           Hip_Hop_Rap                1\n",
       "3  TRAAACV128F423E09E  Rock_Neo_Psychedelia                1\n",
       "4  TRAAAEF128F4273421             Pop_Indie                1"
      ]
     },
     "execution_count": 8,
     "metadata": {},
     "output_type": "execute_result"
    }
   ],
   "source": [
    "# musical features\n",
    "style = pd.read_csv('../deprecated/style.csv', header=None)\n",
    "style.columns = ['track_id','genre']\n",
    "style.loc[:, 'has_musical_ftr'] = 1\n",
    "style.head()"
   ]
  },
  {
   "cell_type": "code",
   "execution_count": 10,
   "metadata": {},
   "outputs": [
    {
     "data": {
      "text/html": [
       "<div>\n",
       "<style scoped>\n",
       "    .dataframe tbody tr th:only-of-type {\n",
       "        vertical-align: middle;\n",
       "    }\n",
       "\n",
       "    .dataframe tbody tr th {\n",
       "        vertical-align: top;\n",
       "    }\n",
       "\n",
       "    .dataframe thead th {\n",
       "        text-align: right;\n",
       "    }\n",
       "</style>\n",
       "<table border=\"1\" class=\"dataframe\">\n",
       "  <thead>\n",
       "    <tr style=\"text-align: right;\">\n",
       "      <th></th>\n",
       "      <th>track_id</th>\n",
       "      <th>image_name</th>\n",
       "      <th>has_cover_img</th>\n",
       "    </tr>\n",
       "  </thead>\n",
       "  <tbody>\n",
       "    <tr>\n",
       "      <th>0</th>\n",
       "      <td>TRMXFDC128F428D430</td>\n",
       "      <td>1e0749cb-19f3-40e8-9852-7d4bafc48bfc</td>\n",
       "      <td>1</td>\n",
       "    </tr>\n",
       "    <tr>\n",
       "      <th>1</th>\n",
       "      <td>TRLDFYW128F428D425</td>\n",
       "      <td>1e0749cb-19f3-40e8-9852-7d4bafc48bfc</td>\n",
       "      <td>1</td>\n",
       "    </tr>\n",
       "    <tr>\n",
       "      <th>2</th>\n",
       "      <td>TRMMMUT128F42646E8</td>\n",
       "      <td>add26870-a2b1-4d18-ae39-804551ef75a4</td>\n",
       "      <td>1</td>\n",
       "    </tr>\n",
       "    <tr>\n",
       "      <th>3</th>\n",
       "      <td>TRWWVQV128F4264E27</td>\n",
       "      <td>ca4634f5-6694-4bae-aac7-35df2c1c82db</td>\n",
       "      <td>1</td>\n",
       "    </tr>\n",
       "    <tr>\n",
       "      <th>4</th>\n",
       "      <td>TRWVYYD128F4273E27</td>\n",
       "      <td>ca4634f5-6694-4bae-aac7-35df2c1c82db</td>\n",
       "      <td>1</td>\n",
       "    </tr>\n",
       "  </tbody>\n",
       "</table>\n",
       "</div>"
      ],
      "text/plain": [
       "             track_id                            image_name  has_cover_img\n",
       "0  TRMXFDC128F428D430  1e0749cb-19f3-40e8-9852-7d4bafc48bfc              1\n",
       "1  TRLDFYW128F428D425  1e0749cb-19f3-40e8-9852-7d4bafc48bfc              1\n",
       "2  TRMMMUT128F42646E8  add26870-a2b1-4d18-ae39-804551ef75a4              1\n",
       "3  TRWWVQV128F4264E27  ca4634f5-6694-4bae-aac7-35df2c1c82db              1\n",
       "4  TRWVYYD128F4273E27  ca4634f5-6694-4bae-aac7-35df2c1c82db              1"
      ]
     },
     "execution_count": 10,
     "metadata": {},
     "output_type": "execute_result"
    }
   ],
   "source": [
    "# covers\n",
    "cover = pd.read_csv('../deprecated/cover_tid_lookup.csv')\n",
    "cover.loc[:,'has_cover_img'] = 1\n",
    "del cover['tags']\n",
    "cover.head()"
   ]
  },
  {
   "cell_type": "code",
   "execution_count": 5,
   "metadata": {},
   "outputs": [],
   "source": [
    "cover_rank = (cover.loc[cover['image_name']!=0, ['image_name','track_id']]\n",
    "                   .drop_duplicates()\n",
    "                   .reset_index(drop=True)\n",
    "                   .reset_index())\n",
    "cover_rank = cover_rank.rename(columns={'index':'cover_id'})\n",
    "cover_rank.loc[:, 'cover_id'] = cover_rank.loc[:, 'cover_id'].astype(int)\n",
    "cover_rank.loc[:, 'cover_id'] = cover_rank.groupby('image_name')['cover_id'].transform(lambda x: x.min())"
   ]
  },
  {
   "cell_type": "code",
   "execution_count": 8,
   "metadata": {},
   "outputs": [
    {
     "data": {
      "text/html": [
       "<div>\n",
       "<style scoped>\n",
       "    .dataframe tbody tr th:only-of-type {\n",
       "        vertical-align: middle;\n",
       "    }\n",
       "\n",
       "    .dataframe tbody tr th {\n",
       "        vertical-align: top;\n",
       "    }\n",
       "\n",
       "    .dataframe thead th {\n",
       "        text-align: right;\n",
       "    }\n",
       "</style>\n",
       "<table border=\"1\" class=\"dataframe\">\n",
       "  <thead>\n",
       "    <tr style=\"text-align: right;\">\n",
       "      <th></th>\n",
       "      <th>track_id</th>\n",
       "      <th>has_lyrics</th>\n",
       "    </tr>\n",
       "  </thead>\n",
       "  <tbody>\n",
       "    <tr>\n",
       "      <th>0</th>\n",
       "      <td>TRAAAAV128F421A322</td>\n",
       "      <td>1</td>\n",
       "    </tr>\n",
       "    <tr>\n",
       "      <th>1</th>\n",
       "      <td>TRAAAEF128F4273421</td>\n",
       "      <td>1</td>\n",
       "    </tr>\n",
       "    <tr>\n",
       "      <th>2</th>\n",
       "      <td>TRAAAHJ128F931194C</td>\n",
       "      <td>1</td>\n",
       "    </tr>\n",
       "    <tr>\n",
       "      <th>3</th>\n",
       "      <td>TRAAAHZ128E0799171</td>\n",
       "      <td>1</td>\n",
       "    </tr>\n",
       "    <tr>\n",
       "      <th>4</th>\n",
       "      <td>TRAAAJG128F9308A25</td>\n",
       "      <td>1</td>\n",
       "    </tr>\n",
       "  </tbody>\n",
       "</table>\n",
       "</div>"
      ],
      "text/plain": [
       "             track_id  has_lyrics\n",
       "0  TRAAAAV128F421A322           1\n",
       "1  TRAAAEF128F4273421           1\n",
       "2  TRAAAHJ128F931194C           1\n",
       "3  TRAAAHZ128E0799171           1\n",
       "4  TRAAAJG128F9308A25           1"
      ]
     },
     "execution_count": 8,
     "metadata": {},
     "output_type": "execute_result"
    }
   ],
   "source": [
    "lyr = pd.read_csv('/storage/thesis/lyrics/lyrics_piv_trunc.csv', usecols=['track_id']).assign(has_lyrics = 1)\n",
    "lyr.head()"
   ]
  },
  {
   "cell_type": "code",
   "execution_count": 9,
   "metadata": {},
   "outputs": [],
   "source": [
    "dt = style.merge(lyr, on=['track_id'], how='left')\n",
    "dt = dt.merge(cover, on=['track_id'], how='left')\n",
    "dt = dt.merge(cover_rank.loc[:,['track_id','cover_id']], on=['track_id'], how='left')\n",
    "idx_cols = ['has_musical_ftr','has_lyrics','has_cover_img']\n",
    "dt.loc[:, idx_cols] = dt.loc[:, idx_cols].fillna(0)\n",
    "# dt.loc[:, 'track_cnt'] = dt.groupby(['cover_id'])['track_id'].transform(lambda x: x.nunique())"
   ]
  },
  {
   "cell_type": "code",
   "execution_count": 10,
   "metadata": {},
   "outputs": [
    {
     "data": {
      "text/plain": [
       "has_musical_ftr  has_lyrics  has_cover_img\n",
       "1                0.0         0.0              0.74210\n",
       "                             1.0              0.00019\n",
       "                 1.0         1.0              0.25771\n",
       "Name: track_id, dtype: float64"
      ]
     },
     "execution_count": 10,
     "metadata": {},
     "output_type": "execute_result"
    }
   ],
   "source": [
    "dt.groupby(['has_musical_ftr','has_lyrics','has_cover_img'])['track_id'].nunique() / dt.shape[0]"
   ]
  },
  {
   "cell_type": "code",
   "execution_count": 11,
   "metadata": {},
   "outputs": [
    {
     "data": {
      "text/plain": [
       "has_musical_ftr  has_lyrics  has_cover_img\n",
       "1                0.0         0.0              203288\n",
       "                             1.0                  52\n",
       "                 1.0         1.0               70596\n",
       "Name: track_id, dtype: int64"
      ]
     },
     "execution_count": 11,
     "metadata": {},
     "output_type": "execute_result"
    }
   ],
   "source": [
    "dt.groupby(['has_musical_ftr','has_lyrics','has_cover_img'])['track_id'].nunique()"
   ]
  },
  {
   "cell_type": "code",
   "execution_count": 12,
   "metadata": {},
   "outputs": [],
   "source": [
    "# 70,000 samples have both lyrics, musical features, cover images, AND a genre label"
   ]
  },
  {
   "cell_type": "code",
   "execution_count": 31,
   "metadata": {},
   "outputs": [],
   "source": [
    "data = dt.copy()\n",
    "data = data.loc[(data['has_lyrics']==1)&(data['has_cover_img']==1), :]\n",
    "\n",
    "np.random.seed(1234)\n",
    "covers = data['cover_id'].unique()\n",
    "np.random.shuffle(covers)\n",
    "train, test = covers[:int(len(covers)*.7)], covers[int(len(covers)*.7)+1: int(len(covers)*.85)]\n",
    "\n",
    "data.loc[:, 'is_test'] = data['cover_id'].map(lambda s: 1 if s in test else (0 if s in train else 2))"
   ]
  },
  {
   "cell_type": "code",
   "execution_count": 34,
   "metadata": {},
   "outputs": [],
   "source": [
    "data.to_csv('test_train_split.csv', index=False)"
   ]
  },
  {
   "cell_type": "code",
   "execution_count": 35,
   "metadata": {},
   "outputs": [
    {
     "data": {
      "text/html": [
       "<div>\n",
       "<style scoped>\n",
       "    .dataframe tbody tr th:only-of-type {\n",
       "        vertical-align: middle;\n",
       "    }\n",
       "\n",
       "    .dataframe tbody tr th {\n",
       "        vertical-align: top;\n",
       "    }\n",
       "\n",
       "    .dataframe thead th {\n",
       "        text-align: right;\n",
       "    }\n",
       "</style>\n",
       "<table border=\"1\" class=\"dataframe\">\n",
       "  <thead>\n",
       "    <tr style=\"text-align: right;\">\n",
       "      <th></th>\n",
       "      <th>track_id</th>\n",
       "      <th>genre</th>\n",
       "      <th>has_musical_ftr</th>\n",
       "      <th>has_lyrics</th>\n",
       "      <th>image_name</th>\n",
       "      <th>has_cover_img</th>\n",
       "      <th>cover_id</th>\n",
       "      <th>is_test</th>\n",
       "    </tr>\n",
       "  </thead>\n",
       "  <tbody>\n",
       "    <tr>\n",
       "      <th>0</th>\n",
       "      <td>TRAAAAV128F421A322</td>\n",
       "      <td>Punk</td>\n",
       "      <td>1</td>\n",
       "      <td>1.0</td>\n",
       "      <td>4b3cc7ae-654e-4408-89e1-4ea70cf86717</td>\n",
       "      <td>1.0</td>\n",
       "      <td>70206.0</td>\n",
       "      <td>0</td>\n",
       "    </tr>\n",
       "    <tr>\n",
       "      <th>1</th>\n",
       "      <td>TRAAAEF128F4273421</td>\n",
       "      <td>Pop_Indie</td>\n",
       "      <td>1</td>\n",
       "      <td>1.0</td>\n",
       "      <td>c1f9b340-a37e-4dc8-aaf9-f622c5457f1a</td>\n",
       "      <td>1.0</td>\n",
       "      <td>21597.0</td>\n",
       "      <td>0</td>\n",
       "    </tr>\n",
       "    <tr>\n",
       "      <th>2</th>\n",
       "      <td>TRAAAHJ128F931194C</td>\n",
       "      <td>Pop_Indie</td>\n",
       "      <td>1</td>\n",
       "      <td>1.0</td>\n",
       "      <td>dc9b75f9-d5e7-434a-82c4-0d4e9790efd4</td>\n",
       "      <td>1.0</td>\n",
       "      <td>1330.0</td>\n",
       "      <td>0</td>\n",
       "    </tr>\n",
       "    <tr>\n",
       "      <th>3</th>\n",
       "      <td>TRAAAHZ128E0799171</td>\n",
       "      <td>Hip_Hop_Rap</td>\n",
       "      <td>1</td>\n",
       "      <td>1.0</td>\n",
       "      <td>62a1cd53-1339-4f04-8113-287b174c3917</td>\n",
       "      <td>1.0</td>\n",
       "      <td>33631.0</td>\n",
       "      <td>2</td>\n",
       "    </tr>\n",
       "    <tr>\n",
       "      <th>4</th>\n",
       "      <td>TRAAAJG128F9308A25</td>\n",
       "      <td>Country_Traditional</td>\n",
       "      <td>1</td>\n",
       "      <td>1.0</td>\n",
       "      <td>0cee21c0-9657-469c-9a72-b81bacc88eee</td>\n",
       "      <td>1.0</td>\n",
       "      <td>40306.0</td>\n",
       "      <td>1</td>\n",
       "    </tr>\n",
       "  </tbody>\n",
       "</table>\n",
       "</div>"
      ],
      "text/plain": [
       "             track_id                genre  has_musical_ftr  has_lyrics  \\\n",
       "0  TRAAAAV128F421A322                 Punk                1         1.0   \n",
       "1  TRAAAEF128F4273421            Pop_Indie                1         1.0   \n",
       "2  TRAAAHJ128F931194C            Pop_Indie                1         1.0   \n",
       "3  TRAAAHZ128E0799171          Hip_Hop_Rap                1         1.0   \n",
       "4  TRAAAJG128F9308A25  Country_Traditional                1         1.0   \n",
       "\n",
       "                             image_name  has_cover_img  cover_id  is_test  \n",
       "0  4b3cc7ae-654e-4408-89e1-4ea70cf86717            1.0   70206.0        0  \n",
       "1  c1f9b340-a37e-4dc8-aaf9-f622c5457f1a            1.0   21597.0        0  \n",
       "2  dc9b75f9-d5e7-434a-82c4-0d4e9790efd4            1.0    1330.0        0  \n",
       "3  62a1cd53-1339-4f04-8113-287b174c3917            1.0   33631.0        2  \n",
       "4  0cee21c0-9657-469c-9a72-b81bacc88eee            1.0   40306.0        1  "
      ]
     },
     "execution_count": 35,
     "metadata": {},
     "output_type": "execute_result"
    }
   ],
   "source": [
    "pd.read_csv('test_train_split.csv').head()"
   ]
  }
 ],
 "metadata": {
  "kernelspec": {
   "display_name": "Python 3",
   "language": "python",
   "name": "python3"
  },
  "language_info": {
   "codemirror_mode": {
    "name": "ipython",
    "version": 3
   },
   "file_extension": ".py",
   "mimetype": "text/x-python",
   "name": "python",
   "nbconvert_exporter": "python",
   "pygments_lexer": "ipython3",
   "version": "3.7.6"
  }
 },
 "nbformat": 4,
 "nbformat_minor": 4
}

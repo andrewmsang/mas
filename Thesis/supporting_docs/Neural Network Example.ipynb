{
 "cells": [
  {
   "cell_type": "code",
   "execution_count": 19,
   "metadata": {},
   "outputs": [],
   "source": [
    "import numpy as np"
   ]
  },
  {
   "cell_type": "markdown",
   "metadata": {},
   "source": [
    "## Sample Architecture\n",
    "<img src='nn_arch.png'> "
   ]
  },
  {
   "cell_type": "code",
   "execution_count": 7,
   "metadata": {},
   "outputs": [
    {
     "data": {
      "text/plain": [
       "array([[0.3214151 , 0.99376546],\n",
       "       [0.93129772, 0.84265235],\n",
       "       [0.67915014, 0.19129716]])"
      ]
     },
     "execution_count": 7,
     "metadata": {},
     "output_type": "execute_result"
    }
   ],
   "source": []
  },
  {
   "cell_type": "code",
   "execution_count": 12,
   "metadata": {},
   "outputs": [],
   "source": [
    "X = np.asarray([10,2,3])\n",
    "W = np.random.random(size=[2,3])"
   ]
  },
  {
   "cell_type": "code",
   "execution_count": 14,
   "metadata": {},
   "outputs": [
    {
     "data": {
      "text/plain": [
       "(2, 3)"
      ]
     },
     "execution_count": 14,
     "metadata": {},
     "output_type": "execute_result"
    }
   ],
   "source": [
    "W.shape"
   ]
  },
  {
   "cell_type": "code",
   "execution_count": 13,
   "metadata": {},
   "outputs": [
    {
     "data": {
      "text/plain": [
       "(3,)"
      ]
     },
     "execution_count": 13,
     "metadata": {},
     "output_type": "execute_result"
    }
   ],
   "source": [
    "X.shape"
   ]
  },
  {
   "cell_type": "code",
   "execution_count": 15,
   "metadata": {},
   "outputs": [
    {
     "data": {
      "text/plain": [
       "array([7.23537209, 5.24792113])"
      ]
     },
     "execution_count": 15,
     "metadata": {},
     "output_type": "execute_result"
    }
   ],
   "source": [
    "W.dot(X)"
   ]
  },
  {
   "cell_type": "code",
   "execution_count": null,
   "metadata": {},
   "outputs": [],
   "source": [
    "# input is 3x1\n",
    "# output is 2x1\n",
    "# first layer is 2 which means the weight has to look like 2x3\n",
    "\n",
    "2x3\n",
    "3x1\n",
    "\n",
    "2x1\n",
    "25x2"
   ]
  },
  {
   "cell_type": "markdown",
   "metadata": {},
   "source": [
    "$X = [X_{0}, X_{1}, X_{2}]$"
   ]
  },
  {
   "cell_type": "markdown",
   "metadata": {},
   "source": [
    "$W = [W_{00}, W_{10}, W_{20} \n",
    "     W_{10}, W_]$ "
   ]
  },
  {
   "cell_type": "markdown",
   "metadata": {},
   "source": [
    "$\n",
    "M=\n",
    "\\left\\[\n",
    "  \\begin{bmatrix}\n",
    "    W_{00} & W_{10} & W_{20} \\\\\n",
    "    W_{01} & W_{11} & W_{21}\n",
    "  \\end{bmatrix}\n",
    "\\right\\]\n",
    "$"
   ]
  },
  {
   "cell_type": "markdown",
   "metadata": {},
   "source": [
    "\\begin{equation*}\n",
    "\\sum_{i=1}^n i = \\left(\\sum_{i=1}^{n-1} i\\right) + n =\n",
    "\\frac{(n-1)(n)}{2} + n = \\frac{n(n+1)}{2}\n",
    "\\end{equation*}"
   ]
  },
  {
   "cell_type": "markdown",
   "metadata": {},
   "source": [
    "$\n",
    "\\begin{equation*}\n",
    "H_{0} = \n",
    "A \\left(\n",
    "\\begin{bmatrix}\n",
    "    W_{00} & W_{10} & W_{20} \\\\\n",
    "    W_{01} & W_{11} & W_{21}\n",
    "  \\end{bmatrix}\n",
    "\\begin{bmatrix} X_{0} \\\\ X_{1} \\\\ X_{2} \\end{bmatrix}\n",
    "\\right)\n",
    "\\end{equation*}\n",
    "$\n"
   ]
  },
  {
   "cell_type": "markdown",
   "metadata": {},
   "source": [
    "$\n",
    "\\begin{equation}\n",
    "H_{0} = \n",
    "\\begin{pmatrix}\n",
    "    W_{00} & W_{10} & W_{20} \\\\\n",
    "    W_{01} & W_{11} & W_{21}\n",
    "  \\end{pmatrix}\n",
    "\\begin{pmatrix} X_{0} \\\\ X_{1} \\\\ X_{2} \\end{pmatrix}\n",
    "= \n",
    "\\begin{pmatrix} \n",
    "    W_{00} \\cdot X_{0} + W_{10} \\cdot X_{1} + W_{20} \\cdot X_{2} \\\\\n",
    "    W_{01} \\cdot X_{0} + W_{11} \\cdot X_{1} + W_{21} \\cdot X_{2}\n",
    "\\end{pmatrix} \n",
    "\\end{equation}\n",
    "$"
   ]
  }
 ],
 "metadata": {
  "kernelspec": {
   "display_name": "Python 3",
   "language": "python",
   "name": "python3"
  },
  "language_info": {
   "codemirror_mode": {
    "name": "ipython",
    "version": 3
   },
   "file_extension": ".py",
   "mimetype": "text/x-python",
   "name": "python",
   "nbconvert_exporter": "python",
   "pygments_lexer": "ipython3",
   "version": "3.7.6"
  }
 },
 "nbformat": 4,
 "nbformat_minor": 4
}
